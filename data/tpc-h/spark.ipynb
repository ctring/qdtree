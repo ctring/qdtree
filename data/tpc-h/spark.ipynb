{
 "cells": [
  {
   "cell_type": "code",
   "execution_count": 1,
   "metadata": {},
   "outputs": [
    {
     "name": "stderr",
     "output_type": "stream",
     "text": [
      "your 131072x1 screen size is bogus. expect trouble\n",
      "23/04/29 15:45:04 WARN Utils: Your hostname, HOMELAB resolves to a loopback address: 127.0.1.1; using 192.168.38.216 instead (on interface eth0)\n",
      "23/04/29 15:45:04 WARN Utils: Set SPARK_LOCAL_IP if you need to bind to another address\n",
      "Setting default log level to \"WARN\".\n",
      "To adjust logging level use sc.setLogLevel(newLevel). For SparkR, use setLogLevel(newLevel).\n",
      "23/04/29 15:45:06 WARN NativeCodeLoader: Unable to load native-hadoop library for your platform... using builtin-java classes where applicable\n"
     ]
    },
    {
     "data": {
      "text/html": [
       "\n",
       "            <div>\n",
       "                <p><b>SparkSession - in-memory</b></p>\n",
       "                \n",
       "        <div>\n",
       "            <p><b>SparkContext</b></p>\n",
       "\n",
       "            <p><a href=\"http://192.168.38.216:4040\">Spark UI</a></p>\n",
       "\n",
       "            <dl>\n",
       "              <dt>Version</dt>\n",
       "                <dd><code>v3.4.0</code></dd>\n",
       "              <dt>Master</dt>\n",
       "                <dd><code>local[*]</code></dd>\n",
       "              <dt>AppName</dt>\n",
       "                <dd><code>pyspark-shell</code></dd>\n",
       "            </dl>\n",
       "        </div>\n",
       "        \n",
       "            </div>\n",
       "        "
      ],
      "text/plain": [
       "<pyspark.sql.session.SparkSession at 0x7f8448e87b50>"
      ]
     },
     "execution_count": 1,
     "metadata": {},
     "output_type": "execute_result"
    }
   ],
   "source": [
    "from pyspark.sql import SparkSession\n",
    "\n",
    "spark = SparkSession.builder.getOrCreate() # type: ignore\n",
    "\n",
    "spark"
   ]
  },
  {
   "cell_type": "code",
   "execution_count": 2,
   "metadata": {},
   "outputs": [],
   "source": [
    "from pyspark.sql.types import (\n",
    "    StructType,\n",
    "    StructField,\n",
    "    IntegerType,\n",
    "    DoubleType,\n",
    "    StringType,\n",
    "    DateType\n",
    ")\n",
    "\n",
    "denormalized_schema = StructType([\n",
    "    StructField(\"L_ORDERKEY\", IntegerType(), nullable=False),\n",
    "    StructField(\"L_PARTKEY\", IntegerType(), False),\n",
    "    StructField(\"L_SUPPKEY\", IntegerType(), False),\n",
    "    StructField(\"L_LINENUMBER\", IntegerType(), True),\n",
    "    StructField(\"L_QUANTITY\", DoubleType(), True),\n",
    "    StructField(\"L_EXTENDEDPRICE\", DoubleType(), True),\n",
    "    StructField(\"L_DISCOUNT\", DoubleType(), True),\n",
    "    StructField(\"L_TAX\", DoubleType(), True),\n",
    "    StructField(\"L_RETURNFLAG\", StringType(), True),\n",
    "    StructField(\"L_LINESTATUS\", StringType(), True),\n",
    "    StructField(\"L_SHIPDATE\", DateType(), True),\n",
    "    StructField(\"L_COMMITDATE\", DateType(), True),\n",
    "    StructField(\"L_RECEIPTDATE\", DateType(), True),\n",
    "    StructField(\"L_SHIPINSTRUCT\", StringType(), True),\n",
    "    StructField(\"L_SHIPMODE\", StringType(), True),\n",
    "    StructField(\"L_COMMENT\", StringType(), True),\n",
    "    StructField(\"O_ORDERKEY\", IntegerType(), nullable=False),\n",
    "    StructField(\"O_CUSTKEY\", IntegerType(), False),\n",
    "    StructField(\"O_ORDERSTATUS\", StringType(), True),\n",
    "    StructField(\"O_TOTALPRICE\", DoubleType(), True),\n",
    "    StructField(\"O_ORDERDATE\", DateType(), True),\n",
    "    StructField(\"O_ORDERPRIORITY\", StringType(), True),\n",
    "    StructField(\"O_CLERK\", StringType(), True),\n",
    "    StructField(\"O_SHIPPRIORITY\", IntegerType(), True),\n",
    "    StructField(\"O_COMMENT\", StringType(), True),\n",
    "    StructField(\"C_CUSTKEY\", IntegerType(), nullable=False),\n",
    "    StructField(\"C_NAME\", StringType(), True),\n",
    "    StructField(\"C_ADDRESS\", StringType(), True),\n",
    "    StructField(\"C_NATIONKEY\", IntegerType(), False),\n",
    "    StructField(\"C_PHONE\", StringType(), True),\n",
    "    StructField(\"C_ACCTBAL\", DoubleType(), True),\n",
    "    StructField(\"C_MKTSEGMENT\", StringType(), True),\n",
    "    StructField(\"C_COMMENT\", StringType(), True),\n",
    "    StructField(\"N_NATIONKEY_CUST\", IntegerType(), nullable=False),\n",
    "    StructField(\"N_NAME_CUST\", StringType(), True),\n",
    "    StructField(\"N_REGIONKEY_CUST\", IntegerType(), False),\n",
    "    StructField(\"N_COMMENT_CUST\", StringType(), True),\n",
    "    StructField(\"R_REGIONKEY_CUST\", IntegerType(), nullable=False),\n",
    "    StructField(\"R_NAME_CUST\", StringType(), True),\n",
    "    StructField(\"R_COMMENT_CUST\", StringType(), True),\n",
    "    StructField(\"PS_PARTKEY\", IntegerType(), nullable=False),\n",
    "    StructField(\"PS_SUPPKEY\", IntegerType(), False),\n",
    "    StructField(\"PS_AVAILQTY\", IntegerType(), True),\n",
    "    StructField(\"PS_SUPPLYCOST\", DoubleType(), True),\n",
    "    StructField(\"PS_COMMENT\", StringType(), True),\n",
    "    StructField(\"P_PARTKEY\", IntegerType(), nullable=False),\n",
    "    StructField(\"P_NAME\", StringType(), True),\n",
    "    StructField(\"P_MFGR\", StringType(), True),\n",
    "    StructField(\"P_BRAND\", StringType(), True),\n",
    "    StructField(\"P_TYPE\", StringType(), True),\n",
    "    StructField(\"P_SIZE\", IntegerType(), True),\n",
    "    StructField(\"P_CONTAINER\", StringType(), True),\n",
    "    StructField(\"P_RETAILPRICE\", DoubleType(), True),\n",
    "    StructField(\"P_COMMENT\", StringType(), True),\n",
    "    StructField(\"S_SUPPKEY\", IntegerType(), nullable=False),\n",
    "    StructField(\"S_NAME\", StringType(), True),\n",
    "    StructField(\"S_ADDRESS\", StringType(), True),\n",
    "    StructField(\"S_NATIONKEY\", IntegerType(), False),\n",
    "    StructField(\"S_PHONE\", StringType(), True),\n",
    "    StructField(\"S_ACCTBAL\", DoubleType(), True),\n",
    "    StructField(\"S_COMMENT\", StringType(), True),\n",
    "    StructField(\"N_NATIONKEY_SUPP\", IntegerType(), nullable=False),\n",
    "    StructField(\"N_NAME_SUPP\", StringType(), True),\n",
    "    StructField(\"N_REGIONKEY_SUPP\", IntegerType(), False),\n",
    "    StructField(\"N_COMMENT_SUPP\", StringType(), True),\n",
    "    StructField(\"R_REGIONKEY_SUPP\", IntegerType(), nullable=False),\n",
    "    StructField(\"R_NAME_SUPP\", StringType(), True),\n",
    "    StructField(\"R_COMMENT_SUPP\", StringType(), True)\n",
    "])"
   ]
  },
  {
   "attachments": {},
   "cell_type": "markdown",
   "metadata": {},
   "source": [
    "Read data from parquet file and register as the `denormalized` table in the Spark catalog."
   ]
  },
  {
   "cell_type": "code",
   "execution_count": 3,
   "metadata": {},
   "outputs": [
    {
     "name": "stderr",
     "output_type": "stream",
     "text": [
      "23/04/29 15:45:12 WARN package: Truncated the string representation of a plan since it was too large. This behavior can be adjusted by setting 'spark.sql.debug.maxToStringFields'.\n"
     ]
    }
   ],
   "source": [
    "df = spark.read.parquet(\"sf1/denormalized.parquet\")\n",
    "df.createOrReplaceTempView(\"denormalized\")"
   ]
  },
  {
   "attachments": {},
   "cell_type": "markdown",
   "metadata": {},
   "source": [
    "Run a quick query to verify the data."
   ]
  },
  {
   "cell_type": "code",
   "execution_count": 4,
   "metadata": {},
   "outputs": [
    {
     "name": "stderr",
     "output_type": "stream",
     "text": [
      "                                                                                \r"
     ]
    },
    {
     "name": "stdout",
     "output_type": "stream",
     "text": [
      "+----------+---------+---------+------------+----------+---------------+----------+-----+------------+------------+----------+------------+-------------+-----------------+----------+--------------------+----------+---------+-------------+------------+-----------+---------------+---------------+--------------+--------------------+---------+------------------+--------------------+-----------+---------------+---------+------------+--------------------+----------------+--------------+----------------+--------------------+----------------+-----------+--------------------+----------+----------+-----------+-------------+--------------------+---------+--------------------+--------------+--------+--------------------+------+-----------+-------------+--------------------+---------+------------------+--------------------+-----------+---------------+---------+--------------------+----------------+--------------+----------------+--------------------+----------------+-----------+--------------------+\n",
      "|L_ORDERKEY|L_PARTKEY|L_SUPPKEY|L_LINENUMBER|L_QUANTITY|L_EXTENDEDPRICE|L_DISCOUNT|L_TAX|L_RETURNFLAG|L_LINESTATUS|L_SHIPDATE|L_COMMITDATE|L_RECEIPTDATE|   L_SHIPINSTRUCT|L_SHIPMODE|           L_COMMENT|O_ORDERKEY|O_CUSTKEY|O_ORDERSTATUS|O_TOTALPRICE|O_ORDERDATE|O_ORDERPRIORITY|        O_CLERK|O_SHIPPRIORITY|           O_COMMENT|C_CUSTKEY|            C_NAME|           C_ADDRESS|C_NATIONKEY|        C_PHONE|C_ACCTBAL|C_MKTSEGMENT|           C_COMMENT|N_NATIONKEY_CUST|   N_NAME_CUST|N_REGIONKEY_CUST|      N_COMMENT_CUST|R_REGIONKEY_CUST|R_NAME_CUST|      R_COMMENT_CUST|PS_PARTKEY|PS_SUPPKEY|PS_AVAILQTY|PS_SUPPLYCOST|          PS_COMMENT|P_PARTKEY|              P_NAME|        P_MFGR| P_BRAND|              P_TYPE|P_SIZE|P_CONTAINER|P_RETAILPRICE|           P_COMMENT|S_SUPPKEY|            S_NAME|           S_ADDRESS|S_NATIONKEY|        S_PHONE|S_ACCTBAL|           S_COMMENT|N_NATIONKEY_SUPP|   N_NAME_SUPP|N_REGIONKEY_SUPP|      N_COMMENT_SUPP|R_REGIONKEY_SUPP|R_NAME_SUPP|      R_COMMENT_SUPP|\n",
      "+----------+---------+---------+------------+----------+---------------+----------+-----+------------+------------+----------+------------+-------------+-----------------+----------+--------------------+----------+---------+-------------+------------+-----------+---------------+---------------+--------------+--------------------+---------+------------------+--------------------+-----------+---------------+---------+------------+--------------------+----------------+--------------+----------------+--------------------+----------------+-----------+--------------------+----------+----------+-----------+-------------+--------------------+---------+--------------------+--------------+--------+--------------------+------+-----------+-------------+--------------------+---------+------------------+--------------------+-----------+---------------+---------+--------------------+----------------+--------------+----------------+--------------------+----------------+-----------+--------------------+\n",
      "|    503685|    75380|     5381|           1|        30|        40661.4|      0.04| 0.04|           R|           F|1992-10-30|  1992-12-15|   1992-11-03|             NONE|      MAIL|ts haggle carefully |    503685|   102404|            F|    40596.33| 1992-10-27|          5-LOW|Clerk#000000673|             0|olites haggle car...|   102404|Customer#000102404|eEkdHDKhDuWHLbzyW...|         14|24-509-777-2443|  9854.75|   HOUSEHOLD|yly regular packa...|              14|         KENYA|               0| pending excuses ...|               0|     AFRICA|lar deposits. bli...|     75380|      5381|       4698|       169.01|slyly even instru...|    75380|dim mint midnight...|Manufacturer#4|Brand#45|MEDIUM BRUSHED BRASS|    21|  WRAP PACK|      1355.38|               ckage|     5381|Supplier#000005381|       EnxVlmR3hWpZM|         14|24-780-658-4283|  6214.92| express requests...|              14|         KENYA|               0| pending excuses ...|               0|     AFRICA|lar deposits. bli...|\n",
      "|    912896|    75380|     5381|           3|        31|       42016.78|      0.06|  0.0|           N|           O|1997-11-16|  1997-11-17|   1997-11-21|DELIVER IN PERSON|   REG AIR|arefully. furious...|    912896|   136702|            O|   165799.45| 1997-08-22|       1-URGENT|Clerk#000000021|             0| slyly against th...|   136702|Customer#000136702|xViB8aW0M04VFE7RX...|         20|30-858-968-6413|   6223.0|    BUILDING| furiously bold d...|              20|  SAUDI ARABIA|               4|ts. silent reques...|               4|MIDDLE EAST|uickly special ac...|     75380|      5381|       4698|       169.01|slyly even instru...|    75380|dim mint midnight...|Manufacturer#4|Brand#45|MEDIUM BRUSHED BRASS|    21|  WRAP PACK|      1355.38|               ckage|     5381|Supplier#000005381|       EnxVlmR3hWpZM|         14|24-780-658-4283|  6214.92| express requests...|              14|         KENYA|               0| pending excuses ...|               0|     AFRICA|lar deposits. bli...|\n",
      "|    503686|     2413|     4914|           1|        18|       23677.38|      0.09| 0.08|           A|           F|1994-09-21|  1994-10-31|   1994-10-10| TAKE BACK RETURN|   REG AIR|inal deposits det...|    503686|   140336|            F|    23270.12| 1994-08-05|4-NOT SPECIFIED|Clerk#000000044|             0|ully. regular exc...|   140336|Customer#000140336|TK2or0gEU6 S ,bXw...|         14|24-391-974-4431|  7631.77|   FURNITURE|encies among the ...|              14|         KENYA|               0| pending excuses ...|               0|     AFRICA|lar deposits. bli...|      2413|      4914|       7232|       181.84|ress packages bre...|     2413|dodger chartreuse...|Manufacturer#1|Brand#15| PROMO PLATED COPPER|    36|    SM DRUM|      1315.41|              areful|     4914|Supplier#000004914|M8AqpqEtejHbxbWD2...|          5|15-146-186-5016|  8225.93|egular dolphins s...|               5|      ETHIOPIA|               0|ven packages wake...|               0|     AFRICA|lar deposits. bli...|\n",
      "|    619778|     2413|     4914|           3|        16|       21046.56|       0.0| 0.06|           N|           O|1996-10-10|  1996-12-11|   1996-10-22|             NONE|       AIR|       y ironic, spe|    619778|    15574|            O|   141273.48| 1996-09-27|       1-URGENT|Clerk#000000939|             0| dolphins wake fl...|    15574|Customer#000015574|AoYgFZK0Db2kMsTs6...|         24|34-549-413-7009|  6388.04|    BUILDING| carefully. quick...|              24| UNITED STATES|               1|y final packages....|               1|    AMERICA|hs use ironic, ev...|      2413|      4914|       7232|       181.84|ress packages bre...|     2413|dodger chartreuse...|Manufacturer#1|Brand#15| PROMO PLATED COPPER|    36|    SM DRUM|      1315.41|              areful|     4914|Supplier#000004914|M8AqpqEtejHbxbWD2...|          5|15-146-186-5016|  8225.93|egular dolphins s...|               5|      ETHIOPIA|               0|ven packages wake...|               0|     AFRICA|lar deposits. bli...|\n",
      "|    503687|     1234|     1235|           1|        33|       37462.59|       0.1| 0.08|           R|           F|1993-12-01|  1993-11-13|   1993-12-27|             NONE|      SHIP|   ironic, ironic in|    503687|    24895|            F|   258786.15| 1993-09-21|         2-HIGH|Clerk#000000812|             0|ly against the qu...|    24895|Customer#000024895|        UN,waIA9hvi9|         23|33-557-352-7526|  3290.11|   FURNITURE|ular ideas. depos...|              23|UNITED KINGDOM|               3|eans boost carefu...|               3|     EUROPE|ly final courts c...|      1234|      1235|       7300|       741.98|s. regular accoun...|     1234|thistle cornsilk ...|Manufacturer#4|Brand#42| SMALL BRUSHED STEEL|    28|     LG JAR|      1135.23|   e quickly ruthles|     1235|Supplier#000001235|DN xKA4F4qK2n4YEZ...|         13|23-387-665-5120|  -437.93|y. regular instru...|              13|        JORDAN|               4|ic deposits are b...|               4|MIDDLE EAST|uickly special ac...|\n",
      "|    503687|   139732|     9733|           2|        27|       47836.71|      0.01| 0.06|           A|           F|1993-11-23|  1993-12-16|   1993-12-19|DELIVER IN PERSON|   REG AIR|ng the regular pi...|    503687|    24895|            F|   258786.15| 1993-09-21|         2-HIGH|Clerk#000000812|             0|ly against the qu...|    24895|Customer#000024895|        UN,waIA9hvi9|         23|33-557-352-7526|  3290.11|   FURNITURE|ular ideas. depos...|              23|UNITED KINGDOM|               3|eans boost carefu...|               3|     EUROPE|ly final courts c...|    139732|      9733|       1890|       932.32|ly silent package...|   139732|papaya red dark s...|Manufacturer#3|Brand#31|STANDARD POLISHED...|     5|     SM BOX|      1771.73|lyly carefully un...|     9733|Supplier#000009733|XIkUGlZFKq4IiZsAI...|          7|17-789-292-3060|  -271.69|ions. boldly regu...|               7|       GERMANY|               3|l platelets. regu...|               3|     EUROPE|ly final courts c...|\n",
      "|    503687|    65669|     8176|           3|        40|        65386.4|      0.04| 0.02|           R|           F|1994-01-03|  1993-12-18|   1994-02-02|DELIVER IN PERSON|       FOB|ular courts; furi...|    503687|    24895|            F|   258786.15| 1993-09-21|         2-HIGH|Clerk#000000812|             0|ly against the qu...|    24895|Customer#000024895|        UN,waIA9hvi9|         23|33-557-352-7526|  3290.11|   FURNITURE|ular ideas. depos...|              23|UNITED KINGDOM|               3|eans boost carefu...|               3|     EUROPE|ly final courts c...|     65669|      8176|         37|       750.24|ar theodolites ou...|    65669|antique orchid la...|Manufacturer#4|Brand#41|ECONOMY ANODIZED ...|    48|     LG BOX|      1634.66|            s. speci|     8176|Supplier#000008176|cQBg1Bxn5LxxR h Z...|         11|21-209-627-8129|  8703.31|e carefully even ...|              11|          IRAQ|               4|nic deposits boos...|               4|MIDDLE EAST|uickly special ac...|\n",
      "|    598532|    65669|     8176|           1|        18|       29423.88|      0.06| 0.07|           N|           O|1997-09-12|  1997-10-07|   1997-09-19|      COLLECT COD|       FOB| express requests...|    598532|   101267|            O|    29594.53| 1997-08-18|         2-HIGH|Clerk#000000416|             0|ests sleep slowly...|   101267|Customer#000101267|   ,AmE7ucdHXwj5YXYJ|          2|12-965-508-8436|  2001.04|   FURNITURE|riously final cou...|               2|        BRAZIL|               1|y alongside of th...|               1|    AMERICA|hs use ironic, ev...|     65669|      8176|         37|       750.24|ar theodolites ou...|    65669|antique orchid la...|Manufacturer#4|Brand#41|ECONOMY ANODIZED ...|    48|     LG BOX|      1634.66|            s. speci|     8176|Supplier#000008176|cQBg1Bxn5LxxR h Z...|         11|21-209-627-8129|  8703.31|e carefully even ...|              11|          IRAQ|               4|nic deposits boos...|               4|MIDDLE EAST|uickly special ac...|\n",
      "|    849095|    65669|     8176|           2|        45|        73559.7|      0.02| 0.08|           N|           O|1998-04-17|  1998-02-28|   1998-05-11| TAKE BACK RETURN|       AIR|ss deposits. furi...|    849095|   131182|            O|    175799.4| 1998-01-03|          5-LOW|Clerk#000000816|             0|s the regularly r...|   131182|Customer#000131182|      3xx51tmE hrV5C|         19|29-438-415-1108|  5465.51|    BUILDING|lowly special fox...|              19|       ROMANIA|               3|ular asymptotes a...|               3|     EUROPE|ly final courts c...|     65669|      8176|         37|       750.24|ar theodolites ou...|    65669|antique orchid la...|Manufacturer#4|Brand#41|ECONOMY ANODIZED ...|    48|     LG BOX|      1634.66|            s. speci|     8176|Supplier#000008176|cQBg1Bxn5LxxR h Z...|         11|21-209-627-8129|  8703.31|e carefully even ...|              11|          IRAQ|               4|nic deposits boos...|               4|MIDDLE EAST|uickly special ac...|\n",
      "|    503687|    98437|     5965|           4|        35|       50240.05|      0.02| 0.02|           R|           F|1993-12-12|  1993-11-17|   1993-12-16|DELIVER IN PERSON|      MAIL|uriously regular pac|    503687|    24895|            F|   258786.15| 1993-09-21|         2-HIGH|Clerk#000000812|             0|ly against the qu...|    24895|Customer#000024895|        UN,waIA9hvi9|         23|33-557-352-7526|  3290.11|   FURNITURE|ular ideas. depos...|              23|UNITED KINGDOM|               3|eans boost carefu...|               3|     EUROPE|ly final courts c...|     98437|      5965|       1412|       854.51|eodolites sleep f...|    98437|goldenrod olive g...|Manufacturer#1|Brand#14| PROMO PLATED NICKEL|     7| JUMBO PACK|      1435.43|int. slyly specia...|     5965|Supplier#000005965|RXgGPHMpLdsK31ygx...|          9|19-146-379-9429|  4116.24|structions are bl...|               9|     INDONESIA|               2| slyly express as...|               2|       ASIA|ges. thinly even ...|\n",
      "|    992003|    98437|     5965|           2|         3|        4306.29|      0.04| 0.03|           N|           O|1998-04-15|  1998-06-19|   1998-04-27|             NONE|       AIR|         ly final re|    992003|    63479|            O|    66372.15| 1998-03-22|       1-URGENT|Clerk#000000799|             0|en pinto beans. b...|    63479|Customer#000063479|8J5MT3DjlzJIRkLAC...|          8|18-110-323-9769|  -600.85|   HOUSEHOLD|thely regular dep...|               8|         INDIA|               2|ss excuses cajole...|               2|       ASIA|ges. thinly even ...|     98437|      5965|       1412|       854.51|eodolites sleep f...|    98437|goldenrod olive g...|Manufacturer#1|Brand#14| PROMO PLATED NICKEL|     7| JUMBO PACK|      1435.43|int. slyly specia...|     5965|Supplier#000005965|RXgGPHMpLdsK31ygx...|          9|19-146-379-9429|  4116.24|structions are bl...|               9|     INDONESIA|               2| slyly express as...|               2|       ASIA|ges. thinly even ...|\n",
      "|    503687|    26975|     6976|           5|        30|        57059.1|      0.06| 0.08|           A|           F|1993-10-22|  1993-12-11|   1993-11-12|             NONE|      SHIP|     carefully final|    503687|    24895|            F|   258786.15| 1993-09-21|         2-HIGH|Clerk#000000812|             0|ly against the qu...|    24895|Customer#000024895|        UN,waIA9hvi9|         23|33-557-352-7526|  3290.11|   FURNITURE|ular ideas. depos...|              23|UNITED KINGDOM|               3|eans boost carefu...|               3|     EUROPE|ly final courts c...|     26975|      6976|        358|       187.49|y ironic accounts...|    26975|snow pink olive d...|Manufacturer#4|Brand#42|STANDARD PLATED N...|    10|    MED BAG|      1901.97|     s. slyly expres|     6976|Supplier#000006976|       ld8Ibdnw6TJ6I|         23|33-705-178-5183|  8788.01|accounts after th...|              23|UNITED KINGDOM|               3|eans boost carefu...|               3|     EUROPE|ly final courts c...|\n",
      "|    503712|   148530|     3559|           1|        30|        47355.9|      0.08| 0.08|           R|           F|1994-09-16|  1994-09-02|   1994-10-14|DELIVER IN PERSON|      MAIL|      ly express dep|    503712|    53512|            F|   164997.25| 1994-07-27|         2-HIGH|Clerk#000000607|             0| around the furio...|    53512|Customer#000053512|fs2agH117XyZvumyY...|         19|29-792-999-9610|  4955.73|   MACHINERY|e fluffily specia...|              19|       ROMANIA|               3|ular asymptotes a...|               3|     EUROPE|ly final courts c...|    148530|      3559|       6150|         7.57|uests sleep blith...|   148530|drab azure grey p...|Manufacturer#1|Brand#12|    LARGE PLATED TIN|     3|    SM PACK|      1578.53|           es are ca|     3559|Supplier#000003559|tc0tqE65uRsAielk4...|          1|11-331-124-2627|   980.95|ross the furiousl...|               1|     ARGENTINA|               1|al foxes promise ...|               1|    AMERICA|hs use ironic, ev...|\n",
      "|    644609|   148530|     3559|           2|        38|       59984.14|       0.1| 0.02|           N|           O|1997-05-16|  1997-05-07|   1997-05-24|             NONE|      MAIL|ual requests acro...|    644609|   102116|            O|   154254.55| 1997-03-12|         2-HIGH|Clerk#000000204|             0|otornis. furiousl...|   102116|Customer#000102116|iuTpc8vmYwUF4sf7W...|         10|20-548-767-5460|  4113.15|   HOUSEHOLD|sly ironic pinto ...|              10|          IRAN|               4|efully alongside ...|               4|MIDDLE EAST|uickly special ac...|    148530|      3559|       6150|         7.57|uests sleep blith...|   148530|drab azure grey p...|Manufacturer#1|Brand#12|    LARGE PLATED TIN|     3|    SM PACK|      1578.53|           es are ca|     3559|Supplier#000003559|tc0tqE65uRsAielk4...|          1|11-331-124-2627|   980.95|ross the furiousl...|               1|     ARGENTINA|               1|al foxes promise ...|               1|    AMERICA|hs use ironic, ev...|\n",
      "|    503712|   137045|     2072|           2|         1|        1082.04|       0.0| 0.03|           A|           F|1994-08-22|  1994-08-28|   1994-09-14|      COLLECT COD|       AIR|ounts. ironic orb...|    503712|    53512|            F|   164997.25| 1994-07-27|         2-HIGH|Clerk#000000607|             0| around the furio...|    53512|Customer#000053512|fs2agH117XyZvumyY...|         19|29-792-999-9610|  4955.73|   MACHINERY|e fluffily specia...|              19|       ROMANIA|               3|ular asymptotes a...|               3|     EUROPE|ly final courts c...|    137045|      2072|       2442|       697.68|its; express, exp...|   137045|beige burnished m...|Manufacturer#3|Brand#32|SMALL ANODIZED STEEL|    11|   WRAP PKG|      1082.04|  ly bold deposits. |     2072|Supplier#000002072|XBBFJ0OV0RxLBgG ,dNl|          0|10-983-966-7774|  7180.16|ironic excuses sl...|               0|       ALGERIA|               0| haggle. carefull...|               0|     AFRICA|lar deposits. bli...|\n",
      "|    503712|   104695|     9716|           3|        26|       44191.94|       0.0| 0.01|           R|           F|1994-07-29|  1994-09-13|   1994-08-18|             NONE|      MAIL| the regular pack...|    503712|    53512|            F|   164997.25| 1994-07-27|         2-HIGH|Clerk#000000607|             0| around the furio...|    53512|Customer#000053512|fs2agH117XyZvumyY...|         19|29-792-999-9610|  4955.73|   MACHINERY|e fluffily specia...|              19|       ROMANIA|               3|ular asymptotes a...|               3|     EUROPE|ly final courts c...|    104695|      9716|       2386|         3.93| wake carefully b...|   104695|pink drab burnish...|Manufacturer#1|Brand#15|STANDARD BRUSHED ...|    15|   WRAP BOX|      1699.69|    uses wake slyly |     9716|Supplier#000009716|VXVt87Jc Eg2w8x8Q...|         18|28-427-307-2561|  9008.68|ly unusual pinto ...|              18|         CHINA|               2|c dependencies. f...|               2|       ASIA|ges. thinly even ...|\n",
      "|    799717|   104695|     9716|           4|        26|       44191.94|      0.03| 0.03|           A|           F|1993-04-14|  1993-02-04|   1993-05-09|             NONE|   REG AIR|ggle furiously ar...|    799717|    48895|            F|   148795.84| 1992-12-17|4-NOT SPECIFIED|Clerk#000000485|             0|e regular request...|    48895|Customer#000048895|Dz1lfeRJbqY8vWZG5...|         17|27-817-172-7629|  4306.92|   MACHINERY|ronic packages. f...|              17|          PERU|               1|platelets. blithe...|               1|    AMERICA|hs use ironic, ev...|    104695|      9716|       2386|         3.93| wake carefully b...|   104695|pink drab burnish...|Manufacturer#1|Brand#15|STANDARD BRUSHED ...|    15|   WRAP BOX|      1699.69|    uses wake slyly |     9716|Supplier#000009716|VXVt87Jc Eg2w8x8Q...|         18|28-427-307-2561|  9008.68|ly unusual pinto ...|              18|         CHINA|               2|c dependencies. f...|               2|       ASIA|ges. thinly even ...|\n",
      "|    503712|     2017|     9518|           4|        30|        27570.3|      0.01| 0.06|           A|           F|1994-10-02|  1994-10-23|   1994-10-18|             NONE|      MAIL|ding requests. ir...|    503712|    53512|            F|   164997.25| 1994-07-27|         2-HIGH|Clerk#000000607|             0| around the furio...|    53512|Customer#000053512|fs2agH117XyZvumyY...|         19|29-792-999-9610|  4955.73|   MACHINERY|e fluffily specia...|              19|       ROMANIA|               3|ular asymptotes a...|               3|     EUROPE|ly final courts c...|      2017|      9518|       8626|       310.01|e silent instruct...|     2017|brown khaki salmo...|Manufacturer#5|Brand#54|LARGE BURNISHED B...|    20|   MED CASE|       919.01|        ptotes nod s|     9518|Supplier#000009518|,GTEu,DAA9M8H,IDj...|          0|10-688-366-2571|  8796.02|s after the furio...|               0|       ALGERIA|               0| haggle. carefull...|               0|     AFRICA|lar deposits. bli...|\n",
      "|    503712|    95510|     3038|           5|        30|        45165.3|      0.07| 0.03|           A|           F|1994-10-14|  1994-09-25|   1994-11-06|      COLLECT COD|   REG AIR|ind blithely sinc...|    503712|    53512|            F|   164997.25| 1994-07-27|         2-HIGH|Clerk#000000607|             0| around the furio...|    53512|Customer#000053512|fs2agH117XyZvumyY...|         19|29-792-999-9610|  4955.73|   MACHINERY|e fluffily specia...|              19|       ROMANIA|               3|ular asymptotes a...|               3|     EUROPE|ly final courts c...|     95510|      3038|       6837|       265.16|s wake blithely a...|    95510|dim chartreuse le...|Manufacturer#4|Brand#41|ECONOMY ANODIZED ...|    29|   MED CASE|      1505.51|  es. pinto beans na|     3038|Supplier#000003038|F5Tz7P juuCbABDuW...|         21|31-160-454-6537|  9629.88|odolites. bold, e...|              21|       VIETNAM|               2|hely enticingly e...|               2|       ASIA|ges. thinly even ...|\n",
      "|    727395|    95510|     3038|           2|         7|       10538.57|      0.08| 0.08|           N|           O|1997-03-15|  1997-04-10|   1997-04-02|      COLLECT COD|     TRUCK|ily. furiously ev...|    727395|   143809|            O|   102053.45| 1997-02-21|       3-MEDIUM|Clerk#000000975|             0|slyly bold dolphi...|   143809|Customer#000143809|NZe66H578fgZyYquc...|         21|31-761-292-8149|  2464.43|   MACHINERY|ncies sleep blith...|              21|       VIETNAM|               2|hely enticingly e...|               2|       ASIA|ges. thinly even ...|     95510|      3038|       6837|       265.16|s wake blithely a...|    95510|dim chartreuse le...|Manufacturer#4|Brand#41|ECONOMY ANODIZED ...|    29|   MED CASE|      1505.51|  es. pinto beans na|     3038|Supplier#000003038|F5Tz7P juuCbABDuW...|         21|31-160-454-6537|  9629.88|odolites. bold, e...|              21|       VIETNAM|               2|hely enticingly e...|               2|       ASIA|ges. thinly even ...|\n",
      "+----------+---------+---------+------------+----------+---------------+----------+-----+------------+------------+----------+------------+-------------+-----------------+----------+--------------------+----------+---------+-------------+------------+-----------+---------------+---------------+--------------+--------------------+---------+------------------+--------------------+-----------+---------------+---------+------------+--------------------+----------------+--------------+----------------+--------------------+----------------+-----------+--------------------+----------+----------+-----------+-------------+--------------------+---------+--------------------+--------------+--------+--------------------+------+-----------+-------------+--------------------+---------+------------------+--------------------+-----------+---------------+---------+--------------------+----------------+--------------+----------------+--------------------+----------------+-----------+--------------------+\n",
      "only showing top 20 rows\n",
      "\n"
     ]
    }
   ],
   "source": [
    "spark.sql(\"select * from denormalized\").show()"
   ]
  }
 ],
 "metadata": {
  "kernelspec": {
   "display_name": "venv",
   "language": "python",
   "name": "python3"
  },
  "language_info": {
   "codemirror_mode": {
    "name": "ipython",
    "version": 3
   },
   "file_extension": ".py",
   "mimetype": "text/x-python",
   "name": "python",
   "nbconvert_exporter": "python",
   "pygments_lexer": "ipython3",
   "version": "3.8.10"
  },
  "orig_nbformat": 4
 },
 "nbformat": 4,
 "nbformat_minor": 2
}
