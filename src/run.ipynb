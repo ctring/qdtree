{
 "cells": [
  {
   "cell_type": "code",
   "execution_count": 1,
   "metadata": {},
   "outputs": [],
   "source": [
    "import os\n",
    "import pandas as pd\n",
    "import numpy as np\n",
    "import ray\n",
    "\n",
    "from env import QdTreeEnv\n",
    "from qdtree import Workload\n",
    "from policy import QdTreePolicy\n",
    "\n",
    "from ray.rllib.env.env_context import EnvContext\n",
    "from ray.rllib.algorithms.ppo import PPOConfig\n",
    "from ray.rllib.agents.ppo import PPOTrainer\n",
    "from ray.rllib.policy.policy import PolicySpec\n",
    "from ray.rllib.policy.sample_batch import DEFAULT_POLICY_ID\n",
    "from ray import air, tune"
   ]
  },
  {
   "cell_type": "code",
   "execution_count": 2,
   "metadata": {},
   "outputs": [
    {
     "data": {
      "text/plain": [
       "{0: col <= 600,\n",
       " 1: col <= 650,\n",
       " 2: col <= 700,\n",
       " 3: col <= 750,\n",
       " 4: col <= 800,\n",
       " 5: col <= 850,\n",
       " 6: col <= 900,\n",
       " 7: col <= 950,\n",
       " 8: col <= 1000}"
      ]
     },
     "execution_count": 2,
     "metadata": {},
     "output_type": "execute_result"
    }
   ],
   "source": [
    "workload = Workload({\n",
    "    \"schema\": {\n",
    "        \"col\": \"int\",\n",
    "    },\n",
    "    \"queries\": {\n",
    "        k: {\n",
    "            \"type\": \"expr\",\n",
    "            \"children\": [\"col\", \"<=\", str(v)]\n",
    "        } for k, v in enumerate(range(600, 1001, 50))\n",
    "    }\n",
    "})\n",
    "\n",
    "data = pd.DataFrame({\n",
    "    \"col\": np.arange(10000),\n",
    "})\n",
    "\n",
    "workload._queries"
   ]
  },
  {
   "cell_type": "code",
   "execution_count": 3,
   "metadata": {},
   "outputs": [
    {
     "name": "stderr",
     "output_type": "stream",
     "text": [
      "2023-05-06 20:27:30,744\tINFO worker.py:1553 -- Started a local Ray instance.\n"
     ]
    },
    {
     "data": {
      "text/html": [
       "<div>\n",
       "    <div style=\"margin-left: 50px;display: flex;flex-direction: row;align-items: center\">\n",
       "        <h3 style=\"color: var(--jp-ui-font-color0)\">Ray</h3>\n",
       "        <svg version=\"1.1\" id=\"ray\" width=\"3em\" viewBox=\"0 0 144.5 144.6\" style=\"margin-left: 3em;margin-right: 3em\">\n",
       "            <g id=\"layer-1\">\n",
       "                <path fill=\"#00a2e9\" class=\"st0\" d=\"M97.3,77.2c-3.8-1.1-6.2,0.9-8.3,5.1c-3.5,6.8-9.9,9.9-17.4,9.6S58,88.1,54.8,81.2c-1.4-3-3-4-6.3-4.1\n",
       "                    c-5.6-0.1-9.9,0.1-13.1,6.4c-3.8,7.6-13.6,10.2-21.8,7.6C5.2,88.4-0.4,80.5,0,71.7c0.1-8.4,5.7-15.8,13.8-18.2\n",
       "                    c8.4-2.6,17.5,0.7,22.3,8c1.3,1.9,1.3,5.2,3.6,5.6c3.9,0.6,8,0.2,12,0.2c1.8,0,1.9-1.6,2.4-2.8c3.5-7.8,9.7-11.8,18-11.9\n",
       "                    c8.2-0.1,14.4,3.9,17.8,11.4c1.3,2.8,2.9,3.6,5.7,3.3c1-0.1,2,0.1,3,0c2.8-0.5,6.4,1.7,8.1-2.7s-2.3-5.5-4.1-7.5\n",
       "                    c-5.1-5.7-10.9-10.8-16.1-16.3C84,38,81.9,37.1,78,38.3C66.7,42,56.2,35.7,53,24.1C50.3,14,57.3,2.8,67.7,0.5\n",
       "                    C78.4-2,89,4.7,91.5,15.3c0.1,0.3,0.1,0.5,0.2,0.8c0.7,3.4,0.7,6.9-0.8,9.8c-1.7,3.2-0.8,5,1.5,7.2c6.7,6.5,13.3,13,19.8,19.7\n",
       "                    c1.8,1.8,3,2.1,5.5,1.2c9.1-3.4,17.9-0.6,23.4,7c4.8,6.9,4.6,16.1-0.4,22.9c-5.4,7.2-14.2,9.9-23.1,6.5c-2.3-0.9-3.5-0.6-5.1,1.1\n",
       "                    c-6.7,6.9-13.6,13.7-20.5,20.4c-1.8,1.8-2.5,3.2-1.4,5.9c3.5,8.7,0.3,18.6-7.7,23.6c-7.9,5-18.2,3.8-24.8-2.9\n",
       "                    c-6.4-6.4-7.4-16.2-2.5-24.3c4.9-7.8,14.5-11,23.1-7.8c3,1.1,4.7,0.5,6.9-1.7C91.7,98.4,98,92.3,104.2,86c1.6-1.6,4.1-2.7,2.6-6.2\n",
       "                    c-1.4-3.3-3.8-2.5-6.2-2.6C99.8,77.2,98.9,77.2,97.3,77.2z M72.1,29.7c5.5,0.1,9.9-4.3,10-9.8c0-0.1,0-0.2,0-0.3\n",
       "                    C81.8,14,77,9.8,71.5,10.2c-5,0.3-9,4.2-9.3,9.2c-0.2,5.5,4,10.1,9.5,10.3C71.8,29.7,72,29.7,72.1,29.7z M72.3,62.3\n",
       "                    c-5.4-0.1-9.9,4.2-10.1,9.7c0,0.2,0,0.3,0,0.5c0.2,5.4,4.5,9.7,9.9,10c5.1,0.1,9.9-4.7,10.1-9.8c0.2-5.5-4-10-9.5-10.3\n",
       "                    C72.6,62.3,72.4,62.3,72.3,62.3z M115,72.5c0.1,5.4,4.5,9.7,9.8,9.9c5.6-0.2,10-4.8,10-10.4c-0.2-5.4-4.6-9.7-10-9.7\n",
       "                    c-5.3-0.1-9.8,4.2-9.9,9.5C115,72.1,115,72.3,115,72.5z M19.5,62.3c-5.4,0.1-9.8,4.4-10,9.8c-0.1,5.1,5.2,10.4,10.2,10.3\n",
       "                    c5.6-0.2,10-4.9,9.8-10.5c-0.1-5.4-4.5-9.7-9.9-9.6C19.6,62.3,19.5,62.3,19.5,62.3z M71.8,134.6c5.9,0.2,10.3-3.9,10.4-9.6\n",
       "                    c0.5-5.5-3.6-10.4-9.1-10.8c-5.5-0.5-10.4,3.6-10.8,9.1c0,0.5,0,0.9,0,1.4c-0.2,5.3,4,9.8,9.3,10\n",
       "                    C71.6,134.6,71.7,134.6,71.8,134.6z\"/>\n",
       "            </g>\n",
       "        </svg>\n",
       "        <table>\n",
       "            <tr>\n",
       "                <td style=\"text-align: left\"><b>Python version:</b></td>\n",
       "                <td style=\"text-align: left\"><b>3.8.10</b></td>\n",
       "            </tr>\n",
       "            <tr>\n",
       "                <td style=\"text-align: left\"><b>Ray version:</b></td>\n",
       "                <td style=\"text-align: left\"><b> 2.3.1</b></td>\n",
       "            </tr>\n",
       "            \n",
       "        </table>\n",
       "    </div>\n",
       "</div>\n"
      ],
      "text/plain": [
       "RayContext(dashboard_url='', python_version='3.8.10', ray_version='2.3.1', ray_commit='5f14cee8dfc6d61ec4fd3bc2c440f9944e92b33a', address_info={'node_ip_address': '192.168.75.74', 'raylet_ip_address': '192.168.75.74', 'redis_address': None, 'object_store_address': '/tmp/ray/session_2023-05-06_20-27-28_976681_32626/sockets/plasma_store', 'raylet_socket_name': '/tmp/ray/session_2023-05-06_20-27-28_976681_32626/sockets/raylet', 'webui_url': '', 'session_dir': '/tmp/ray/session_2023-05-06_20-27-28_976681_32626', 'metrics_export_port': 48202, 'gcs_address': '192.168.75.74:64591', 'address': '192.168.75.74:64591', 'dashboard_agent_listen_port': 52365, 'node_id': '72de7c958da77552dca9b1dcbd5a98f7063fe63d09448da9658f556f'})"
      ]
     },
     "execution_count": 3,
     "metadata": {},
     "output_type": "execute_result"
    }
   ],
   "source": [
    "ray.init(local_mode=False)"
   ]
  },
  {
   "cell_type": "code",
   "execution_count": 41,
   "metadata": {},
   "outputs": [
    {
     "name": "stderr",
     "output_type": "stream",
     "text": [
      "2023-05-06 21:09:25,564\tWARNING util.py:67 -- Install gputil for GPU system monitoring.\n"
     ]
    },
    {
     "name": "stderr",
     "output_type": "stream",
     "text": [
      "\u001b[2m\u001b[36m(RolloutWorker pid=14979)\u001b[0m 2023-05-06 21:09:25,520\tWARNING env.py:156 -- Your env doesn't have a .spec.max_episode_steps attribute. Your horizon will default to infinity, and your environment will not be reset.\n",
      "\u001b[2m\u001b[36m(RolloutWorker pid=14979)\u001b[0m 2023-05-06 21:09:25,520\tWARNING env.py:166 -- Your env reset() method appears to take 'seed' or 'return_info' arguments. Note that these are not yet supported in RLlib. Seeding will take place using 'env.seed()' and the info dict will not be returned from reset.\n"
     ]
    }
   ],
   "source": [
    "MIN_LEAF_SIZE = 200\n",
    "\n",
    "env_config = {\n",
    "    \"workload\": workload,\n",
    "    \"data\": data,\n",
    "    \"min_leaf_size\": MIN_LEAF_SIZE,\n",
    "}\n",
    "\n",
    "config = (\n",
    "    PPOConfig()\n",
    "    .environment(\n",
    "        QdTreeEnv,\n",
    "        env_config=env_config,\n",
    "    )\n",
    "    .framework(\"torch\")\n",
    "    .rollouts(num_rollout_workers=1, batch_mode=\"complete_episodes\")\n",
    "    .training(\n",
    "        model={\n",
    "            \"fcnet_hiddens\": [128],\n",
    "            \"fcnet_activation\": \"relu\",\n",
    "            # \"vf_share_layers\": True,\n",
    "        }\n",
    "    )\n",
    "    .multi_agent(\n",
    "        policies={DEFAULT_POLICY_ID: PolicySpec(policy_class=QdTreePolicy)}\n",
    "    )\n",
    "    # Use GPUs iff `RLLIB_NUM_GPUS` env var set to > 0.\n",
    "    .resources(num_gpus=int(os.environ.get(\"RLLIB_NUM_GPUS\", \"0\")))\n",
    ")\n",
    "\n",
    "algo = config.build()\n",
    "\n",
    "stop = {\n",
    "    \"training_iteration\": 10,\n",
    "    \"timesteps_total\": 10000,\n",
    "    \"episode_reward_mean\": 0.95,\n",
    "}"
   ]
  },
  {
   "cell_type": "code",
   "execution_count": null,
   "metadata": {},
   "outputs": [],
   "source": [
    "# from ray.tune.logger import pretty_print\n",
    "\n",
    "# config.lr = 1e-3\n",
    "# algo = config.build()\n",
    "# # run manual training loop and print results after each iteration\n",
    "# for _ in range(stop[\"training_iteration\"]):\n",
    "#     result = algo.train()\n",
    "#     print(pretty_print(result))\n",
    "#     # stop training of the target train steps or reward are reached\n",
    "#     if (\n",
    "#         result[\"timesteps_total\"] >= stop[\"timesteps_total\"]\n",
    "#         or result[\"episode_reward_mean\"] >= stop[\"episode_reward_mean\"]\n",
    "#     ):\n",
    "#         break\n",
    "# algo.stop()\n"
   ]
  },
  {
   "cell_type": "code",
   "execution_count": 42,
   "metadata": {},
   "outputs": [
    {
     "data": {
      "text/html": [
       "<div class=\"tuneStatus\">\n",
       "  <div style=\"display: flex;flex-direction: row\">\n",
       "    <div style=\"display: flex;flex-direction: column;\">\n",
       "      <h3>Tune Status</h3>\n",
       "      <table>\n",
       "<tbody>\n",
       "<tr><td>Current time:</td><td>2023-05-06 21:10:18</td></tr>\n",
       "<tr><td>Running for: </td><td>00:00:50.37        </td></tr>\n",
       "<tr><td>Memory:      </td><td>7.8/31.3 GiB       </td></tr>\n",
       "</tbody>\n",
       "</table>\n",
       "    </div>\n",
       "    <div class=\"vDivider\"></div>\n",
       "    <div class=\"systemInfo\">\n",
       "      <h3>System Info</h3>\n",
       "      Using FIFO scheduling algorithm.<br>Resources requested: 0/24 CPUs, 0/0 GPUs, 0.0/13.85 GiB heap, 0.0/6.92 GiB objects\n",
       "    </div>\n",
       "    \n",
       "  </div>\n",
       "  <div class=\"hDivider\"></div>\n",
       "  <div class=\"trialStatus\">\n",
       "    <h3>Trial Status</h3>\n",
       "    <table>\n",
       "<thead>\n",
       "<tr><th>Trial name               </th><th>status    </th><th>loc                </th><th style=\"text-align: right;\">  iter</th><th style=\"text-align: right;\">  total time (s)</th><th style=\"text-align: right;\">   ts</th><th style=\"text-align: right;\">  reward</th><th style=\"text-align: right;\">  episode_reward_max</th><th style=\"text-align: right;\">  episode_reward_min</th><th style=\"text-align: right;\">  episode_len_mean</th></tr>\n",
       "</thead>\n",
       "<tbody>\n",
       "<tr><td>PPO_QdTreeEnv_d08b8_00000</td><td>TERMINATED</td><td>192.168.75.74:15072</td><td style=\"text-align: right;\">     3</td><td style=\"text-align: right;\">         43.4941</td><td style=\"text-align: right;\">12004</td><td style=\"text-align: right;\">0.730018</td><td style=\"text-align: right;\">            0.913233</td><td style=\"text-align: right;\">            0.104433</td><td style=\"text-align: right;\">           5.27704</td></tr>\n",
       "</tbody>\n",
       "</table>\n",
       "  </div>\n",
       "</div>\n",
       "<style>\n",
       ".tuneStatus {\n",
       "  color: var(--jp-ui-font-color1);\n",
       "}\n",
       ".tuneStatus .systemInfo {\n",
       "  display: flex;\n",
       "  flex-direction: column;\n",
       "}\n",
       ".tuneStatus td {\n",
       "  white-space: nowrap;\n",
       "}\n",
       ".tuneStatus .trialStatus {\n",
       "  display: flex;\n",
       "  flex-direction: column;\n",
       "}\n",
       ".tuneStatus h3 {\n",
       "  font-weight: bold;\n",
       "}\n",
       ".tuneStatus .hDivider {\n",
       "  border-bottom-width: var(--jp-border-width);\n",
       "  border-bottom-color: var(--jp-border-color0);\n",
       "  border-bottom-style: solid;\n",
       "}\n",
       ".tuneStatus .vDivider {\n",
       "  border-left-width: var(--jp-border-width);\n",
       "  border-left-color: var(--jp-border-color0);\n",
       "  border-left-style: solid;\n",
       "  margin: 0.5em 1em 0.5em 1em;\n",
       "}\n",
       "</style>\n"
      ],
      "text/plain": [
       "<IPython.core.display.HTML object>"
      ]
     },
     "metadata": {},
     "output_type": "display_data"
    },
    {
     "name": "stderr",
     "output_type": "stream",
     "text": [
      "\u001b[2m\u001b[36m(PPO pid=15072)\u001b[0m 2023-05-06 21:09:31,414\tWARNING algorithm_config.py:596 -- Cannot create PPOConfig from given `config_dict`! Property __stdout_file__ not supported.\n",
      "\u001b[2m\u001b[36m(PPO pid=15072)\u001b[0m 2023-05-06 21:09:31,596\tINFO algorithm.py:506 -- Current log_level is WARN. For more information, set 'log_level': 'INFO' / 'DEBUG' or use the -v and -vv flags.\n",
      "\u001b[2m\u001b[36m(PPO pid=15072)\u001b[0m 2023-05-06 21:09:34,848\tWARNING util.py:67 -- Install gputil for GPU system monitoring.\n"
     ]
    },
    {
     "data": {
      "text/html": [
       "<div class=\"trialProgress\">\n",
       "  <h3>Trial Progress</h3>\n",
       "  <table>\n",
       "<thead>\n",
       "<tr><th>Trial name               </th><th style=\"text-align: right;\">  agent_timesteps_total</th><th>connector_metrics                                                                                                                                             </th><th>counters                                                                                                                            </th><th>custom_metrics  </th><th>date               </th><th>done  </th><th style=\"text-align: right;\">  episode_len_mean</th><th>episode_media  </th><th style=\"text-align: right;\">  episode_reward_max</th><th style=\"text-align: right;\">  episode_reward_mean</th><th style=\"text-align: right;\">  episode_reward_min</th><th style=\"text-align: right;\">  episodes_this_iter</th><th style=\"text-align: right;\">  episodes_total</th><th>experiment_id                   </th><th>hostname  </th><th>info                                                                                                                                                                                                                                                                                                                                                                                                                                                                                                                                                                                                                                                                                                                </th><th style=\"text-align: right;\">  iterations_since_restore</th><th>node_ip      </th><th style=\"text-align: right;\">  num_agent_steps_sampled</th><th style=\"text-align: right;\">  num_agent_steps_trained</th><th style=\"text-align: right;\">  num_env_steps_sampled</th><th style=\"text-align: right;\">  num_env_steps_sampled_this_iter</th><th style=\"text-align: right;\">  num_env_steps_trained</th><th style=\"text-align: right;\">  num_env_steps_trained_this_iter</th><th style=\"text-align: right;\">  num_faulty_episodes</th><th style=\"text-align: right;\">  num_healthy_workers</th><th style=\"text-align: right;\">  num_in_flight_async_reqs</th><th style=\"text-align: right;\">  num_remote_worker_restarts</th><th style=\"text-align: right;\">  num_steps_trained_this_iter</th><th>perf                                                                            </th><th style=\"text-align: right;\">  pid</th><th>policy_reward_max  </th><th>policy_reward_mean  </th><th>policy_reward_min  </th><th>sampler_perf                                                                                                                                                                                                    </th><th>sampler_results                                                                                                                                                                                                                                                                                                                                                                                                                                                                                                                                                                                                                                                                                                                                                                                                                                                                                                                                                                                                                                                                                                                                                                                                                                                                                                                                                                                                                                                                                                                                                                                                                                                                                                                                                                                                                                                                                                                                                                                                                                                                                                                                                                                                                                                                                                                                                                                                                                                                                                                                                                                                                                                                                                                                                                                                                                                                                                                                                                                                                                                                                                                                                                                                                                                                                                                                                                                                                                                                                                                                                                                                                                                                                                                                                                                                                                                                                                                                                                                                                                                                                                                                                                                                                                                                                                                                                                                                                                                                                                                                                                                                                                                                                                                                                                                                                                                                                                                                                                                                                                                                                                                                                                                                                                                                                                                                                                                                                                                                                                                                                                                                                                                                                                                                                                                                                                                                                                                                                                                                                                                                                                                                                                                                                                                                                                                                                                                                                                                                                                                                                                                                                                                                                                                                                                                                                                                                                                                                                                                                                                                                                                                                                                                                                                                                                                                                                                                                                                                                                                                                                                                                                                                                                                                                                                                                                                                                                                                                                                                                                                                                                                                                                                                                                                                                                                                                                                                                                                                                                                                                                                                                                                                                                                                                                                                                                                                                                                                                                                                                                                                                                                                                                                                                                                                                                                                                                                                                                                                                                                                                                                                                                                                                                                                                                                                                                                                                                                                                                                                                                                                                                                                                                                                                                                                                                                                                                                                                                                                                                                                                                                                                                                                                                                                                                                                                                                                                                                                                                                                                                                                                                                                                                                                                                                                                                                                                                                                                                                                                                                                                                                                                                                                                                                                                                                                                                                                                                                                                                                                                                                                                                                                                                                                                                                                                                                                                                                                                                                                                                                                                                                                                                                                                                                                                                                                                                                                                                                                                                                                                                                                                                                                                                                                                                                                                                                                                                                                                                                                                                                                                                                                                                                                                                                                                                                                                                                                                                                                                                                                                                                                                                                                                                                                                                                                                                                                                                                                                                                                                                                                                                                                                                                                                                                                                                                                                                                                                                                                                                                                                                                                                                                                                                                                                                                                                                                                                                                                                                                                                                                                                                                                                                                                                                                                                                                                                                                                                                                                                                                                                                                                                                                                                                                                                                                                                                                                                                                                                                                                                                                                                                                                                                                                                                                                                                                                                                                                                                                                                                                                                                                                                                                                                                                                                                                                                                                                                                                                                                                             </th><th style=\"text-align: right;\">  time_since_restore</th><th style=\"text-align: right;\">  time_this_iter_s</th><th style=\"text-align: right;\">  time_total_s</th><th>timers                                                                                                                                                                                 </th><th style=\"text-align: right;\">  timestamp</th><th style=\"text-align: right;\">  timesteps_since_restore</th><th style=\"text-align: right;\">  timesteps_total</th><th style=\"text-align: right;\">  training_iteration</th><th>trial_id   </th><th style=\"text-align: right;\">  warmup_time</th></tr>\n",
       "</thead>\n",
       "<tbody>\n",
       "<tr><td>PPO_QdTreeEnv_d08b8_00000</td><td style=\"text-align: right;\">                  12004</td><td>{&#x27;ObsPreprocessorConnector_ms&#x27;: 0.007602564577691474, &#x27;StateBufferConnector_ms&#x27;: 0.010262472962955686, &#x27;ViewRequirementAgentConnector_ms&#x27;: 0.1285584746690413}</td><td>{&#x27;num_env_steps_sampled&#x27;: 12004, &#x27;num_env_steps_trained&#x27;: 12004, &#x27;num_agent_steps_sampled&#x27;: 12004, &#x27;num_agent_steps_trained&#x27;: 12004}</td><td>{}              </td><td>2023-05-06_21-10-18</td><td>True  </td><td style=\"text-align: right;\">           5.27704</td><td>{}             </td><td style=\"text-align: right;\">            0.913233</td><td style=\"text-align: right;\">             0.730018</td><td style=\"text-align: right;\">            0.104433</td><td style=\"text-align: right;\">                 758</td><td style=\"text-align: right;\">            2398</td><td>970b4720716f432f87d944fddad4da0a</td><td>HOMELAB   </td><td>{&#x27;learner&#x27;: {&#x27;default_policy&#x27;: {&#x27;learner_stats&#x27;: {&#x27;allreduce_latency&#x27;: 0.0, &#x27;grad_gnorm&#x27;: 1.7551520158526719, &#x27;cur_kl_coeff&#x27;: 0.4500000000000001, &#x27;cur_lr&#x27;: 5.0000000000000016e-05, &#x27;total_loss&#x27;: 0.4144470496043082, &#x27;policy_loss&#x27;: -0.0395048292433863, &#x27;vf_loss&#x27;: 0.4452335016060901, &#x27;vf_explained_var&#x27;: 0.38137393516878926, &#x27;kl&#x27;: 0.01937417322210922, &#x27;entropy&#x27;: 2.0354708151150773, &#x27;entropy_coeff&#x27;: 0.0}, &#x27;model&#x27;: {}, &#x27;custom_metrics&#x27;: {}, &#x27;num_agent_steps_trained&#x27;: 128.0, &#x27;num_grad_updates_lifetime&#x27;: 2325.5, &#x27;diff_num_grad_updates_vs_sampler_policy&#x27;: 464.5}}, &#x27;num_env_steps_sampled&#x27;: 12004, &#x27;num_env_steps_trained&#x27;: 12004, &#x27;num_agent_steps_sampled&#x27;: 12004, &#x27;num_agent_steps_trained&#x27;: 12004}</td><td style=\"text-align: right;\">                         3</td><td>192.168.75.74</td><td style=\"text-align: right;\">                    12004</td><td style=\"text-align: right;\">                    12004</td><td style=\"text-align: right;\">                  12004</td><td style=\"text-align: right;\">                             4000</td><td style=\"text-align: right;\">                  12004</td><td style=\"text-align: right;\">                             4000</td><td style=\"text-align: right;\">                    0</td><td style=\"text-align: right;\">                    1</td><td style=\"text-align: right;\">                         0</td><td style=\"text-align: right;\">                           0</td><td style=\"text-align: right;\">                         4000</td><td>{&#x27;cpu_util_percent&#x27;: 5.1000000000000005, &#x27;ram_util_percent&#x27;: 24.899999999999995}</td><td style=\"text-align: right;\">15072</td><td>{}                 </td><td>{}                  </td><td>{}                 </td><td>{&#x27;mean_raw_obs_processing_ms&#x27;: 0.5699220273654593, &#x27;mean_inference_ms&#x27;: 1.0940420285010026, &#x27;mean_action_processing_ms&#x27;: 0.12318812922009424, &#x27;mean_env_wait_ms&#x27;: 0.5210910623940466, &#x27;mean_env_render_ms&#x27;: 0.0}</td><td>{&#x27;episode_reward_max&#x27;: 0.9132333333333333, &#x27;episode_reward_min&#x27;: 0.10443333333333334, &#x27;episode_reward_mean&#x27;: 0.7300181031955437, &#x27;episode_len_mean&#x27;: 5.277044854881266, &#x27;episode_media&#x27;: {}, &#x27;episodes_this_iter&#x27;: 758, &#x27;policy_reward_min&#x27;: {}, &#x27;policy_reward_max&#x27;: {}, &#x27;policy_reward_mean&#x27;: {}, &#x27;custom_metrics&#x27;: {}, &#x27;hist_stats&#x27;: {&#x27;episode_reward&#x27;: [0.10443333333333334, 0.9076777777777778, 0.9110111111111111, 0.10443333333333334, 0.6127111111111111, 0.8043555555555556, 0.8126888888888889, 0.8126888888888889, 0.8132444444444444, 0.9110111111111111, 0.30996666666666667, 0.30996666666666667, 0.9076777777777778, 0.8126888888888889, 0.5110555555555556, 0.8043555555555556, 0.7110333333333333, 0.8110222222222222, 0.8126888888888889, 0.9076777777777778, 0.7143666666666667, 0.9110111111111111, 0.8132444444444444, 0.9110111111111111, 0.6099333333333333, 0.8082444444444444, 0.30996666666666667, 0.20775555555555555, 0.6143777777777778, 0.7077, 0.10443333333333334, 0.8999, 0.5132777777777778, 0.20775555555555555, 0.9110111111111111, 0.7110333333333333, 0.9110111111111111, 0.8043555555555556, 0.20775555555555555, 0.9099, 0.8110222222222222, 0.8043555555555556, 0.8126888888888889, 0.8126888888888889, 0.6099333333333333, 0.7132555555555555, 0.8126888888888889, 0.7132555555555555, 0.9099, 0.8043555555555556, 0.9076777777777778, 0.8082444444444444, 0.8999, 0.7110333333333333, 0.8999, 0.8110222222222222, 0.30996666666666667, 0.6143777777777778, 0.7143666666666667, 0.9076777777777778, 0.7143666666666667, 0.7132555555555555, 0.8999, 0.9076777777777778, 0.8043555555555556, 0.9099, 0.30996666666666667, 0.9110111111111111, 0.8043555555555556, 0.9076777777777778, 0.10443333333333334, 0.9099, 0.8082444444444444, 0.10443333333333334, 0.9099, 0.8110222222222222, 0.8999, 0.7077, 0.7110333333333333, 0.7077, 0.5110555555555556, 0.8999, 0.8132444444444444, 0.10443333333333334, 0.9132333333333333, 0.8126888888888889, 0.9076777777777778, 0.7132555555555555, 0.9110111111111111, 0.8110222222222222, 0.9043444444444444, 0.8110222222222222, 0.9099, 0.9099, 0.30996666666666667, 0.8110222222222222, 0.8110222222222222, 0.8082444444444444, 0.9043444444444444, 0.8043555555555556, 0.20775555555555555, 0.30996666666666667, 0.8043555555555556, 0.6099333333333333, 0.9110111111111111, 0.6143777777777778, 0.7077, 0.8043555555555556, 0.20775555555555555, 0.9076777777777778, 0.6099333333333333, 0.9110111111111111, 0.8999, 0.8043555555555556, 0.9076777777777778, 0.7077, 0.9076777777777778, 0.6127111111111111, 0.9076777777777778, 0.8110222222222222, 0.8043555555555556, 0.6099333333333333, 0.9110111111111111, 0.9076777777777778, 0.8043555555555556, 0.9132333333333333, 0.9099, 0.8999, 0.8110222222222222, 0.7110333333333333, 0.9110111111111111, 0.9110111111111111, 0.4110666666666667, 0.7110333333333333, 0.6143777777777778, 0.9076777777777778, 0.9110111111111111, 0.8999, 0.8126888888888889, 0.9099, 0.20775555555555555, 0.9132333333333333, 0.7132555555555555, 0.7143666666666667, 0.9076777777777778, 0.9043444444444444, 0.8043555555555556, 0.7143666666666667, 0.7110333333333333, 0.8126888888888889, 0.7077, 0.7143666666666667, 0.9099, 0.7077, 0.6099333333333333, 0.8126888888888889, 0.8110222222222222, 0.8110222222222222, 0.8110222222222222, 0.7143666666666667, 0.30996666666666667, 0.8082444444444444, 0.6099333333333333, 0.8126888888888889, 0.8132444444444444, 0.9076777777777778, 0.7077, 0.9043444444444444, 0.8126888888888889, 0.4110666666666667, 0.10443333333333334, 0.9076777777777778, 0.7110333333333333, 0.9099, 0.5110555555555556, 0.9043444444444444, 0.7143666666666667, 0.9076777777777778, 0.4110666666666667, 0.9110111111111111, 0.20775555555555555, 0.9043444444444444, 0.8999, 0.10443333333333334, 0.8126888888888889, 0.8043555555555556, 0.8126888888888889, 0.8043555555555556, 0.7132555555555555, 0.8126888888888889, 0.8110222222222222, 0.8126888888888889, 0.7132555555555555, 0.8132444444444444, 0.4110666666666667, 0.9110111111111111, 0.7143666666666667, 0.7132555555555555, 0.6143777777777778, 0.5110555555555556, 0.9099, 0.8999, 0.7132555555555555, 0.8126888888888889, 0.30996666666666667, 0.9099, 0.6127111111111111, 0.10443333333333334, 0.20775555555555555, 0.7110333333333333, 0.4110666666666667, 0.7110333333333333, 0.8132444444444444, 0.6127111111111111, 0.9043444444444444, 0.9132333333333333, 0.8999, 0.8999, 0.8110222222222222, 0.7077, 0.9099, 0.8082444444444444, 0.4110666666666667, 0.8999, 0.7077, 0.8132444444444444, 0.9099, 0.8110222222222222, 0.7077, 0.9110111111111111, 0.8043555555555556, 0.9076777777777778, 0.5110555555555556, 0.8110222222222222, 0.20775555555555555, 0.7077, 0.9099, 0.7110333333333333, 0.8110222222222222, 0.5110555555555556, 0.9110111111111111, 0.9110111111111111, 0.9076777777777778, 0.7077, 0.7143666666666667, 0.8999, 0.7077, 0.8043555555555556, 0.5110555555555556, 0.8110222222222222, 0.7077, 0.7077, 0.8110222222222222, 0.8110222222222222, 0.8043555555555556, 0.8043555555555556, 0.9076777777777778, 0.9043444444444444, 0.9043444444444444, 0.8082444444444444, 0.7110333333333333, 0.8043555555555556, 0.9099, 0.30996666666666667, 0.30996666666666667, 0.20775555555555555, 0.8043555555555556, 0.7110333333333333, 0.9076777777777778, 0.9099, 0.8999, 0.20775555555555555, 0.8043555555555556, 0.8082444444444444, 0.9110111111111111, 0.9043444444444444, 0.7077, 0.20775555555555555, 0.8999, 0.8110222222222222, 0.7143666666666667, 0.9099, 0.10443333333333334, 0.6127111111111111, 0.8110222222222222, 0.6127111111111111, 0.9099, 0.7077, 0.9043444444444444, 0.8999, 0.8043555555555556, 0.8132444444444444, 0.7132555555555555, 0.8110222222222222, 0.9110111111111111, 0.9099, 0.30996666666666667, 0.7143666666666667, 0.8082444444444444, 0.20775555555555555, 0.7077, 0.8999, 0.8110222222222222, 0.9076777777777778, 0.8082444444444444, 0.7110333333333333, 0.8082444444444444, 0.20775555555555555, 0.7110333333333333, 0.6099333333333333, 0.9110111111111111, 0.8082444444444444, 0.8043555555555556, 0.6143777777777778, 0.8999, 0.4110666666666667, 0.8126888888888889, 0.7132555555555555, 0.8043555555555556, 0.6143777777777778, 0.8132444444444444, 0.5110555555555556, 0.7132555555555555, 0.7110333333333333, 0.7110333333333333, 0.10443333333333334, 0.6127111111111111, 0.8126888888888889, 0.9110111111111111, 0.6143777777777778, 0.7132555555555555, 0.7143666666666667, 0.9099, 0.5110555555555556, 0.9043444444444444, 0.7110333333333333, 0.9099, 0.30996666666666667, 0.7110333333333333, 0.6099333333333333, 0.7143666666666667, 0.9076777777777778, 0.7077, 0.9110111111111111, 0.8999, 0.8110222222222222, 0.9043444444444444, 0.9076777777777778, 0.4110666666666667, 0.6143777777777778, 0.8126888888888889, 0.8110222222222222, 0.8126888888888889, 0.9099, 0.8126888888888889, 0.8126888888888889, 0.30996666666666667, 0.6099333333333333, 0.30996666666666667, 0.7110333333333333, 0.9099, 0.9043444444444444, 0.6099333333333333, 0.9099, 0.6099333333333333, 0.9099, 0.8999, 0.9132333333333333, 0.7077, 0.8999, 0.7143666666666667, 0.9043444444444444, 0.7143666666666667, 0.8082444444444444, 0.8043555555555556, 0.8126888888888889, 0.8110222222222222, 0.5110555555555556, 0.8132444444444444, 0.8999, 0.7110333333333333, 0.8110222222222222, 0.9076777777777778, 0.9132333333333333, 0.8043555555555556, 0.8043555555555556, 0.8999, 0.8110222222222222, 0.8082444444444444, 0.5110555555555556, 0.8126888888888889, 0.6099333333333333, 0.8126888888888889, 0.7110333333333333, 0.8110222222222222, 0.9110111111111111, 0.8082444444444444, 0.7143666666666667, 0.8082444444444444, 0.6099333333333333, 0.8043555555555556, 0.5132777777777778, 0.7132555555555555, 0.9110111111111111, 0.9099, 0.8043555555555556, 0.6127111111111111, 0.9076777777777778, 0.8043555555555556, 0.4110666666666667, 0.8082444444444444, 0.6099333333333333, 0.7143666666666667, 0.9110111111111111, 0.8110222222222222, 0.7110333333333333, 0.9099, 0.9043444444444444, 0.8110222222222222, 0.7077, 0.9076777777777778, 0.6099333333333333, 0.8999, 0.7110333333333333, 0.8132444444444444, 0.9076777777777778, 0.8110222222222222, 0.9043444444444444, 0.9043444444444444, 0.8126888888888889, 0.9043444444444444, 0.9099, 0.8999, 0.6127111111111111, 0.30996666666666667, 0.8132444444444444, 0.20775555555555555, 0.30996666666666667, 0.6127111111111111, 0.8043555555555556, 0.8126888888888889, 0.6099333333333333, 0.30996666666666667, 0.9132333333333333, 0.8082444444444444, 0.8082444444444444, 0.5110555555555556, 0.9043444444444444, 0.9110111111111111, 0.9099, 0.7143666666666667, 0.8126888888888889, 0.9099, 0.5132777777777778, 0.8999, 0.6143777777777778, 0.8082444444444444, 0.8126888888888889, 0.8126888888888889, 0.9110111111111111, 0.20775555555555555, 0.9099, 0.8110222222222222, 0.9076777777777778, 0.8043555555555556, 0.8082444444444444, 0.8110222222222222, 0.20775555555555555, 0.9076777777777778, 0.8132444444444444, 0.8043555555555556, 0.8999, 0.20775555555555555, 0.8082444444444444, 0.8043555555555556, 0.4110666666666667, 0.9076777777777778, 0.8126888888888889, 0.8999, 0.9043444444444444, 0.8110222222222222, 0.8043555555555556, 0.9043444444444444, 0.8132444444444444, 0.4110666666666667, 0.6127111111111111, 0.4110666666666667, 0.9099, 0.7132555555555555, 0.7110333333333333, 0.9043444444444444, 0.8043555555555556, 0.6127111111111111, 0.9110111111111111, 0.6143777777777778, 0.8082444444444444, 0.20775555555555555, 0.8126888888888889, 0.8082444444444444, 0.8999, 0.20775555555555555, 0.20775555555555555, 0.6099333333333333, 0.9110111111111111, 0.8999, 0.7132555555555555, 0.4110666666666667, 0.8082444444444444, 0.8132444444444444, 0.8110222222222222, 0.30996666666666667, 0.30996666666666667, 0.9110111111111111, 0.6143777777777778, 0.8043555555555556, 0.7132555555555555, 0.9076777777777778, 0.8043555555555556, 0.9099, 0.8043555555555556, 0.8126888888888889, 0.8110222222222222, 0.30996666666666667, 0.8082444444444444, 0.9110111111111111, 0.7132555555555555, 0.8999, 0.7110333333333333, 0.6143777777777778, 0.7110333333333333, 0.7132555555555555, 0.7077, 0.9043444444444444, 0.8082444444444444, 0.7143666666666667, 0.8043555555555556, 0.8999, 0.7077, 0.20775555555555555, 0.6127111111111111, 0.8082444444444444, 0.9099, 0.8110222222222222, 0.8082444444444444, 0.7132555555555555, 0.7110333333333333, 0.5132777777777778, 0.6099333333333333, 0.8043555555555556, 0.10443333333333334, 0.7143666666666667, 0.8999, 0.6099333333333333, 0.9110111111111111, 0.8082444444444444, 0.8126888888888889, 0.7077, 0.30996666666666667, 0.8082444444444444, 0.7077, 0.30996666666666667, 0.8043555555555556, 0.9110111111111111, 0.7077, 0.8082444444444444, 0.6143777777777778, 0.8082444444444444, 0.9099, 0.9099, 0.10443333333333334, 0.7077, 0.8043555555555556, 0.5110555555555556, 0.7143666666666667, 0.7077, 0.9043444444444444, 0.7132555555555555, 0.9099, 0.9076777777777778, 0.5132777777777778, 0.9043444444444444, 0.9110111111111111, 0.7077, 0.9076777777777778, 0.6099333333333333, 0.4110666666666667, 0.7110333333333333, 0.9043444444444444, 0.4110666666666667, 0.6099333333333333, 0.8110222222222222, 0.9110111111111111, 0.8110222222222222, 0.8126888888888889, 0.7077, 0.7132555555555555, 0.6099333333333333, 0.9099, 0.8126888888888889, 0.9043444444444444, 0.8110222222222222, 0.8082444444444444, 0.30996666666666667, 0.6143777777777778, 0.9099, 0.9110111111111111, 0.30996666666666667, 0.5110555555555556, 0.9076777777777778, 0.8999, 0.8082444444444444, 0.9076777777777778, 0.8126888888888889, 0.9043444444444444, 0.8043555555555556, 0.7132555555555555, 0.7077, 0.30996666666666667, 0.8999, 0.9043444444444444, 0.20775555555555555, 0.9099, 0.8110222222222222, 0.7077, 0.9043444444444444, 0.8126888888888889, 0.8110222222222222, 0.20775555555555555, 0.9043444444444444, 0.30996666666666667, 0.8082444444444444, 0.9099, 0.9043444444444444, 0.8126888888888889, 0.8043555555555556, 0.7110333333333333, 0.9076777777777778, 0.8132444444444444, 0.9110111111111111, 0.9110111111111111, 0.9110111111111111, 0.7110333333333333, 0.8043555555555556, 0.8999, 0.4110666666666667, 0.8126888888888889, 0.6127111111111111, 0.8043555555555556, 0.9110111111111111, 0.7143666666666667, 0.8043555555555556, 0.9043444444444444, 0.9043444444444444, 0.9099, 0.7132555555555555, 0.7077, 0.9110111111111111, 0.7132555555555555, 0.8043555555555556, 0.7132555555555555, 0.6127111111111111, 0.5132777777777778, 0.9076777777777778, 0.7077, 0.8110222222222222, 0.9099, 0.7077, 0.7110333333333333, 0.30996666666666667, 0.8043555555555556, 0.9076777777777778, 0.9076777777777778, 0.30996666666666667, 0.8043555555555556, 0.8999, 0.8043555555555556, 0.8082444444444444, 0.7132555555555555, 0.20775555555555555, 0.9076777777777778, 0.5110555555555556, 0.9043444444444444, 0.10443333333333334, 0.8126888888888889, 0.9110111111111111, 0.9099, 0.9110111111111111, 0.9043444444444444, 0.8110222222222222, 0.8043555555555556, 0.10443333333333334, 0.5110555555555556, 0.4110666666666667, 0.8082444444444444, 0.6099333333333333, 0.9110111111111111, 0.8999, 0.4110666666666667, 0.8126888888888889, 0.8999, 0.5110555555555556, 0.6143777777777778, 0.8132444444444444, 0.8082444444444444, 0.8082444444444444, 0.9043444444444444, 0.5110555555555556, 0.7132555555555555, 0.8132444444444444, 0.9043444444444444, 0.6099333333333333, 0.20775555555555555, 0.8110222222222222, 0.8043555555555556, 0.6143777777777778, 0.8043555555555556, 0.8110222222222222, 0.9132333333333333, 0.9099, 0.8110222222222222, 0.7110333333333333, 0.20775555555555555, 0.30996666666666667, 0.7132555555555555, 0.8999, 0.8082444444444444, 0.6143777777777778, 0.8110222222222222, 0.6099333333333333, 0.8043555555555556, 0.7132555555555555, 0.8043555555555556, 0.9076777777777778, 0.9043444444444444, 0.8110222222222222, 0.5110555555555556, 0.8999, 0.6127111111111111, 0.6099333333333333, 0.20775555555555555, 0.20775555555555555, 0.8043555555555556, 0.8043555555555556, 0.8082444444444444, 0.9076777777777778, 0.9099, 0.8999, 0.8043555555555556, 0.7143666666666667, 0.9076777777777778, 0.4110666666666667, 0.9099, 0.9043444444444444, 0.7143666666666667, 0.9110111111111111, 0.10443333333333334, 0.8082444444444444, 0.8082444444444444], &#x27;episode_lengths&#x27;: [4, 6, 6, 4, 6, 4, 6, 6, 6, 6, 4, 4, 6, 6, 4, 4, 6, 6, 6, 6, 6, 6, 6, 6, 4, 6, 4, 4, 6, 4, 4, 4, 6, 4, 6, 6, 6, 4, 4, 6, 6, 4, 6, 6, 4, 6, 6, 6, 6, 4, 6, 6, 4, 6, 4, 6, 4, 6, 6, 6, 6, 6, 4, 6, 4, 6, 4, 6, 4, 6, 4, 6, 6, 4, 6, 6, 4, 4, 6, 4, 4, 4, 6, 4, 8, 6, 6, 6, 6, 6, 6, 6, 6, 6, 4, 6, 6, 6, 6, 4, 4, 4, 4, 4, 6, 6, 4, 4, 4, 6, 4, 6, 4, 4, 6, 4, 6, 6, 6, 6, 4, 4, 6, 6, 4, 8, 6, 4, 6, 6, 6, 6, 4, 6, 6, 6, 6, 4, 6, 6, 4, 8, 6, 6, 6, 6, 4, 6, 6, 6, 4, 6, 6, 4, 4, 6, 6, 6, 6, 6, 4, 6, 4, 6, 6, 6, 4, 6, 6, 4, 4, 6, 6, 6, 4, 6, 6, 6, 4, 6, 4, 6, 4, 4, 6, 4, 6, 4, 6, 6, 6, 6, 6, 6, 4, 6, 6, 6, 6, 4, 6, 4, 6, 6, 4, 6, 6, 4, 4, 6, 4, 6, 6, 6, 6, 8, 4, 4, 6, 4, 6, 6, 4, 4, 4, 6, 6, 6, 4, 6, 4, 6, 4, 6, 4, 4, 6, 6, 6, 4, 6, 6, 6, 4, 6, 4, 4, 4, 4, 6, 4, 4, 6, 6, 4, 4, 6, 6, 6, 6, 6, 4, 6, 4, 4, 4, 4, 6, 6, 6, 4, 4, 4, 6, 6, 6, 4, 4, 4, 6, 6, 6, 4, 6, 6, 6, 6, 4, 6, 4, 4, 6, 6, 6, 6, 6, 4, 6, 6, 4, 4, 4, 6, 6, 6, 6, 6, 4, 6, 4, 6, 6, 4, 6, 4, 4, 6, 6, 4, 6, 6, 4, 6, 6, 6, 4, 6, 6, 6, 6, 6, 6, 6, 4, 6, 6, 6, 4, 6, 4, 6, 6, 4, 6, 4, 6, 6, 6, 4, 6, 6, 6, 6, 6, 6, 6, 4, 4, 4, 6, 6, 6, 4, 6, 4, 6, 4, 8, 4, 4, 6, 6, 6, 6, 4, 6, 6, 4, 6, 4, 6, 6, 6, 8, 4, 4, 4, 6, 6, 4, 6, 4, 6, 6, 6, 6, 6, 6, 6, 4, 4, 6, 6, 6, 6, 4, 6, 6, 4, 4, 6, 4, 6, 6, 6, 6, 6, 6, 6, 4, 6, 4, 4, 6, 6, 6, 6, 6, 6, 6, 6, 6, 4, 6, 4, 6, 4, 4, 6, 4, 6, 4, 4, 8, 6, 6, 4, 6, 6, 6, 6, 6, 6, 6, 4, 6, 6, 6, 6, 6, 4, 6, 6, 6, 4, 6, 6, 4, 6, 6, 4, 4, 4, 6, 4, 4, 6, 6, 4, 6, 6, 4, 6, 6, 4, 6, 4, 6, 6, 6, 6, 4, 6, 6, 6, 6, 4, 6, 6, 4, 4, 4, 4, 6, 4, 6, 4, 6, 6, 6, 4, 4, 6, 6, 4, 6, 6, 4, 6, 4, 6, 6, 4, 6, 6, 6, 4, 6, 6, 6, 6, 4, 6, 6, 6, 4, 4, 4, 4, 6, 6, 6, 6, 6, 6, 6, 6, 4, 4, 4, 6, 4, 4, 6, 6, 6, 4, 4, 6, 4, 4, 4, 6, 4, 6, 6, 6, 6, 6, 4, 4, 4, 4, 6, 4, 6, 6, 6, 6, 6, 6, 6, 4, 6, 4, 4, 6, 6, 4, 4, 6, 6, 6, 6, 4, 6, 4, 6, 6, 6, 6, 6, 4, 6, 6, 6, 4, 4, 6, 4, 6, 6, 6, 6, 4, 6, 4, 4, 4, 6, 4, 6, 6, 4, 6, 6, 6, 4, 6, 4, 6, 6, 6, 6, 4, 6, 6, 6, 6, 6, 6, 6, 4, 4, 4, 6, 6, 4, 6, 6, 4, 6, 6, 6, 6, 4, 6, 6, 4, 6, 6, 6, 6, 4, 6, 6, 4, 6, 4, 4, 6, 6, 4, 4, 4, 4, 6, 6, 4, 6, 4, 6, 4, 6, 6, 6, 6, 6, 6, 4, 4, 4, 4, 6, 4, 6, 4, 4, 6, 4, 4, 6, 6, 6, 6, 6, 4, 6, 6, 6, 4, 4, 6, 4, 6, 4, 6, 8, 6, 6, 6, 4, 4, 6, 4, 6, 6, 6, 4, 4, 6, 4, 6, 6, 6, 4, 4, 6, 4, 4, 4, 4, 4, 6, 6, 6, 4, 4, 6, 6, 4, 6, 6, 6, 6, 4, 6, 6]}, &#x27;sampler_perf&#x27;: {&#x27;mean_raw_obs_processing_ms&#x27;: 0.5699220273654593, &#x27;mean_inference_ms&#x27;: 1.0940420285010026, &#x27;mean_action_processing_ms&#x27;: 0.12318812922009424, &#x27;mean_env_wait_ms&#x27;: 0.5210910623940466, &#x27;mean_env_render_ms&#x27;: 0.0}, &#x27;num_faulty_episodes&#x27;: 0, &#x27;connector_metrics&#x27;: {&#x27;ObsPreprocessorConnector_ms&#x27;: 0.007602564577691474, &#x27;StateBufferConnector_ms&#x27;: 0.010262472962955686, &#x27;ViewRequirementAgentConnector_ms&#x27;: 0.1285584746690413}}</td><td style=\"text-align: right;\">             43.4941</td><td style=\"text-align: right;\">           14.2937</td><td style=\"text-align: right;\">       43.4941</td><td>{&#x27;training_iteration_time_ms&#x27;: 14467.87, &#x27;load_time_ms&#x27;: 0.925, &#x27;load_throughput&#x27;: 4326953.009, &#x27;learn_time_ms&#x27;: 4982.953, &#x27;learn_throughput&#x27;: 803.004, &#x27;synch_weights_time_ms&#x27;: 1.327}</td><td style=\"text-align: right;\"> 1683421818</td><td style=\"text-align: right;\">                        0</td><td style=\"text-align: right;\">            12004</td><td style=\"text-align: right;\">                   3</td><td>d08b8_00000</td><td style=\"text-align: right;\">      3.26467</td></tr>\n",
       "</tbody>\n",
       "</table>\n",
       "</div>\n",
       "<style>\n",
       ".trialProgress {\n",
       "  display: flex;\n",
       "  flex-direction: column;\n",
       "  color: var(--jp-ui-font-color1);\n",
       "}\n",
       ".trialProgress h3 {\n",
       "  font-weight: bold;\n",
       "}\n",
       ".trialProgress td {\n",
       "  white-space: nowrap;\n",
       "}\n",
       "</style>\n"
      ],
      "text/plain": [
       "<IPython.core.display.HTML object>"
      ]
     },
     "metadata": {},
     "output_type": "display_data"
    }
   ],
   "source": [
    "tuner = tune.Tuner(\n",
    "    \"PPO\",\n",
    "    param_space=config.to_dict(),\n",
    "    run_config=air.RunConfig(\n",
    "        local_dir=\"./results\",\n",
    "        stop=stop,\n",
    "        checkpoint_config=air.CheckpointConfig(checkpoint_at_end=True),\n",
    "    ),\n",
    ")\n",
    "result = tuner.fit()"
   ]
  },
  {
   "cell_type": "code",
   "execution_count": 15,
   "metadata": {},
   "outputs": [
    {
     "name": "stderr",
     "output_type": "stream",
     "text": [
      "\u001b[2m\u001b[36m(RolloutWorker pid=13197)\u001b[0m 2023-05-06 20:48:55,496\tWARNING env.py:156 -- Your env doesn't have a .spec.max_episode_steps attribute. Your horizon will default to infinity, and your environment will not be reset.\n",
      "\u001b[2m\u001b[36m(RolloutWorker pid=13197)\u001b[0m 2023-05-06 20:48:55,496\tWARNING env.py:166 -- Your env reset() method appears to take 'seed' or 'return_info' arguments. Note that these are not yet supported in RLlib. Seeding will take place using 'env.seed()' and the info dict will not be returned from reset.\n",
      "2023-05-06 20:48:55,541\tWARNING util.py:67 -- Install gputil for GPU system monitoring.\n",
      "2023-05-06 20:48:55,575\tINFO trainable.py:791 -- Restored on 192.168.75.74 from checkpoint: /home/ctring/src/qdtree/src/results/PPO/PPO_QdTreeEnv_1da3e_00000_0_2023-05-06_20-28-40/checkpoint_000001\n",
      "2023-05-06 20:48:55,576\tINFO trainable.py:800 -- Current state after restoring: {'_iteration': 1, '_timesteps_total': None, '_time_total': 15.46816635131836, '_episodes_total': 1000}\n"
     ]
    }
   ],
   "source": [
    "agent = config.build()\n"
   ]
  },
  {
   "cell_type": "code",
   "execution_count": 46,
   "metadata": {},
   "outputs": [
    {
     "name": "stderr",
     "output_type": "stream",
     "text": [
      "2023-05-06 21:14:18,115\tINFO trainable.py:791 -- Restored on 192.168.75.74 from checkpoint: /home/ctring/src/qdtree/src/results/PPO/PPO_QdTreeEnv_d08b8_00000_0_2023-05-06_21-09-28/checkpoint_000003\n",
      "2023-05-06 21:14:18,116\tINFO trainable.py:800 -- Current state after restoring: {'_iteration': 3, '_timesteps_total': None, '_time_total': 43.49412679672241, '_episodes_total': 2398}\n"
     ]
    },
    {
     "name": "stdout",
     "output_type": "stream",
     "text": [
      "0 8 [1 1 1 1 1 1 1 1 1 1 1 1 1 1 1 0 0 0 0 0 0 0 0 0 0 0 0 0 0 1 0 1 1 0] 0 False {}\n",
      "1 0 [0 0 0 0 0 0 0 0 0 0 0 0 0 1 0 1 1 1 1 1 1 1 1 1 1 1 1 1 1 1 1 1 1 1] 0 False {}\n",
      "2 8 [1 1 1 1 1 1 1 1 1 1 1 1 1 1 1 0 0 0 0 0 0 0 0 0 0 0 0 0 0 1 0 0 1 0] 0 False {}\n",
      "3 0 [0 0 0 0 0 0 0 0 0 0 0 0 0 1 0 0 0 0 0 0 0 0 0 0 0 0 0 0 0 1 0 1 1 0] 0 False {}\n",
      "4 6 [0 0 0 0 0 0 0 0 0 0 0 0 0 1 0 0 0 0 0 0 0 0 0 0 0 0 0 0 0 1 0 1 1 0] 0.9043444444444444 False {'rewards': array([0.90434444, 0.04440004, 1.        , 0.        , 0.11111111,\n",
      "       0.        ])}\n",
      "5 6 [0 0 0 0 0 0 0 0 0 0 0 0 0 1 0 0 0 0 0 0 0 0 0 0 0 0 0 0 0 1 0 1 1 0] 0 True {}\n",
      "0.9043444444444444\n"
     ]
    }
   ],
   "source": [
    "agent.restore(result.get_best_result().checkpoint) # type: ignore\n",
    "\n",
    "env = QdTreeEnv(EnvContext(env_config, 0))\n",
    "done = False\n",
    "obs, _ = env.reset() \n",
    "step = 0\n",
    "episode_reward = 0\n",
    "while not done:\n",
    "    action = agent.compute_single_action(obs, explore=False)\n",
    "    obs, reward, done, _, info = env.step(action) # type: ignore\n",
    "    episode_reward += reward\n",
    "    print(step, action, obs, reward, done, info)\n",
    "    step += 1\n",
    "\n",
    "print(episode_reward)\n"
   ]
  },
  {
   "cell_type": "code",
   "execution_count": 47,
   "metadata": {},
   "outputs": [
    {
     "name": "stdout",
     "output_type": "stream",
     "text": [
      "{'id': 1,\n",
      " 'cut': col <= 1000,\n",
      " 'size': 10000,\n",
      " 'block': {'col': (-inf, inf)},\n",
      " 'skipped_records': 81391,\n",
      " 'left': {'id': 2,\n",
      "          'cut': col <= 600,\n",
      "          'size': 1001,\n",
      "          'block': {'col': (-inf, 1000]},\n",
      "          'skipped_records': 400,\n",
      "          'left': {'id': 4,\n",
      "                   'cut': None,\n",
      "                   'size': 601,\n",
      "                   'block': {'col': (-inf, 600]},\n",
      "                   'skipped_records': 0,\n",
      "                   'left': None,\n",
      "                   'right': None},\n",
      "          'right': {'id': 5,\n",
      "                    'cut': None,\n",
      "                    'size': 400,\n",
      "                    'block': {'col': (600, 1000]},\n",
      "                    'skipped_records': 400,\n",
      "                    'left': None,\n",
      "                    'right': None}},\n",
      " 'right': {'id': 3,\n",
      "           'cut': None,\n",
      "           'size': 8999,\n",
      "           'block': {'col': (1000, inf)},\n",
      "           'skipped_records': 80991,\n",
      "           'left': None,\n",
      "           'right': None}}\n"
     ]
    }
   ],
   "source": [
    "print(env.qd_tree)"
   ]
  },
  {
   "cell_type": "code",
   "execution_count": 44,
   "metadata": {},
   "outputs": [
    {
     "data": {
      "text/plain": [
       "tensor([-1.9378, -1.8947, -2.0470, -2.9134, -3.5488, -3.3076, -2.6307, -1.9341,\n",
       "        -1.4260])"
      ]
     },
     "execution_count": 44,
     "metadata": {},
     "output_type": "execute_result"
    }
   ],
   "source": [
    "env = QdTreeEnv(EnvContext(env_config, 0))\n",
    "obs, _ = env.reset() \n",
    "\n",
    "agent.get_policy().compute_log_likelihoods(list(range(9)), [obs])\n"
   ]
  },
  {
   "cell_type": "code",
   "execution_count": null,
   "metadata": {},
   "outputs": [],
   "source": []
  }
 ],
 "metadata": {
  "kernelspec": {
   "display_name": "venv",
   "language": "python",
   "name": "python3"
  },
  "language_info": {
   "codemirror_mode": {
    "name": "ipython",
    "version": 3
   },
   "file_extension": ".py",
   "mimetype": "text/x-python",
   "name": "python",
   "nbconvert_exporter": "python",
   "pygments_lexer": "ipython3",
   "version": "3.8.10"
  },
  "orig_nbformat": 4
 },
 "nbformat": 4,
 "nbformat_minor": 2
}
