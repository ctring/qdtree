{
 "cells": [
  {
   "cell_type": "code",
   "execution_count": 26,
   "metadata": {},
   "outputs": [],
   "source": [
    "import json\n",
    "import os\n",
    "import pandas as pd\n",
    "import ray\n",
    "\n",
    "from pprint import pprint \n",
    "\n",
    "from env import QdTreeEnv\n",
    "from qdtree import Workload\n",
    "from qdtree.schema import ensure_data_schema\n",
    "from policy import QdTreePolicy\n",
    "\n",
    "from ray.rllib.env.env_context import EnvContext\n",
    "from ray.rllib.algorithms.ppo import PPOConfig\n",
    "from ray.rllib.policy.policy import PolicySpec\n",
    "from ray.rllib.policy.sample_batch import DEFAULT_POLICY_ID\n",
    "from ray import air, tune\n"
   ]
  },
  {
   "attachments": {},
   "cell_type": "markdown",
   "metadata": {},
   "source": [
    "Parameters"
   ]
  },
  {
   "cell_type": "code",
   "execution_count": 14,
   "metadata": {},
   "outputs": [],
   "source": [
    "# We use sf = 1 for TPC-H. The paper uses sf = 1000\n",
    "BASE_PATH = \"../data/tpc-h/\"\n",
    "# The sampling rate in the paper is 0.1\n",
    "SAMPLING_RATE = 0.01\n",
    "# The min block size in the paper is 100K, we use 100 to scale down according to the sf\n",
    "MIN_BLOCK_SIZE = 100 * SAMPLING_RATE"
   ]
  },
  {
   "attachments": {},
   "cell_type": "markdown",
   "metadata": {},
   "source": [
    "# Load the workload"
   ]
  },
  {
   "cell_type": "code",
   "execution_count": 18,
   "metadata": {},
   "outputs": [
    {
     "data": {
      "text/plain": [
       "{'1.4.sql': l_shipdate <= 906350400,\n",
       " '1.3.sql': l_shipdate <= 907041600,\n",
       " '1.2.sql': l_shipdate <= 902548800,\n",
       " '1.1.sql': l_shipdate <= 903240000,\n",
       " '1.5.sql': l_shipdate <= 905659200,\n",
       " '3.2.sql':  and(o_orderdate < 795070800, l_shipdate > 795070800),\n",
       " '3.5.sql':  and(o_orderdate < 796626000, l_shipdate > 796626000),\n",
       " '3.4.sql':  and(o_orderdate < 795243600, l_shipdate > 795243600),\n",
       " '3.3.sql':  and(o_orderdate < 796453200, l_shipdate > 796453200),\n",
       " '3.1.sql':  and(o_orderdate < 796280400, l_shipdate > 796280400),\n",
       " '4.4.sql':  and(o_orderdate >= 794034000, o_orderdate < 801979200),\n",
       " '4.1.sql':  and(o_orderdate >= 854773200, o_orderdate < 862459200),\n",
       " '4.2.sql':  and(o_orderdate >= 783666000, o_orderdate < 791614800),\n",
       " '4.5.sql':  and(o_orderdate >= 875678400, o_orderdate < 883630800),\n",
       " '4.3.sql':  and(o_orderdate >= 865137600, o_orderdate < 873086400)}"
      ]
     },
     "execution_count": 18,
     "metadata": {},
     "output_type": "execute_result"
    }
   ],
   "source": [
    "WORKLOAD_PATH = os.path.join(BASE_PATH, \"workload.json\")\n",
    "with open(WORKLOAD_PATH, \"r\") as f:\n",
    "    workload = Workload(json.load(f))\n",
    "\n",
    "workload._queries"
   ]
  },
  {
   "attachments": {},
   "cell_type": "markdown",
   "metadata": {},
   "source": [
    "# Load and sample data"
   ]
  },
  {
   "cell_type": "code",
   "execution_count": 19,
   "metadata": {},
   "outputs": [
    {
     "name": "stdout",
     "output_type": "stream",
     "text": [
      "<class 'pandas.core.frame.DataFrame'>\n",
      "Int64Index: 600122 entries, 1214116 to 3540802\n",
      "Data columns (total 35 columns):\n",
      " #   Column            Non-Null Count   Dtype  \n",
      "---  ------            --------------   -----  \n",
      " 0   l_orderkey        600122 non-null  int64  \n",
      " 1   l_partkey         600122 non-null  int64  \n",
      " 2   l_suppkey         600122 non-null  int64  \n",
      " 3   l_linenumber      600122 non-null  int64  \n",
      " 4   l_quantity        600122 non-null  float64\n",
      " 5   l_extendedprice   600122 non-null  float64\n",
      " 6   l_discount        600122 non-null  float64\n",
      " 7   l_tax             600122 non-null  float64\n",
      " 8   l_shipdate        600122 non-null  int64  \n",
      " 9   l_commitdate      600122 non-null  int64  \n",
      " 10  l_receiptdate     600122 non-null  int64  \n",
      " 11  o_orderkey        600122 non-null  int64  \n",
      " 12  o_custkey         600122 non-null  int64  \n",
      " 13  o_totalprice      600122 non-null  float64\n",
      " 14  o_orderdate       600122 non-null  int64  \n",
      " 15  o_shippriority    600122 non-null  int64  \n",
      " 16  c_custkey         600122 non-null  int64  \n",
      " 17  c_nationkey       600122 non-null  int64  \n",
      " 18  c_acctbal         600122 non-null  float64\n",
      " 19  n_nationkey_cust  600122 non-null  int64  \n",
      " 20  n_regionkey_cust  600122 non-null  int64  \n",
      " 21  r_regionkey_cust  600122 non-null  int64  \n",
      " 22  ps_partkey        600122 non-null  int64  \n",
      " 23  ps_suppkey        600122 non-null  int64  \n",
      " 24  ps_availqty       600122 non-null  int64  \n",
      " 25  ps_supplycost     600122 non-null  float64\n",
      " 26  p_partkey         600122 non-null  int64  \n",
      " 27  p_size            600122 non-null  int64  \n",
      " 28  p_retailprice     600122 non-null  float64\n",
      " 29  s_suppkey         600122 non-null  int64  \n",
      " 30  s_nationkey       600122 non-null  int64  \n",
      " 31  s_acctbal         600122 non-null  float64\n",
      " 32  n_nationkey_supp  600122 non-null  int64  \n",
      " 33  n_regionkey_supp  600122 non-null  int64  \n",
      " 34  r_regionkey_supp  600122 non-null  int64  \n",
      "dtypes: float64(9), int64(26)\n",
      "memory usage: 164.8 MB\n"
     ]
    }
   ],
   "source": [
    "DATA_PATH = os.path.join(BASE_PATH, \"sf1/denormalized.parquet\")\n",
    "all_data = pd.read_parquet(DATA_PATH).sample(frac=0.1)\n",
    "all_data.columns = all_data.columns.str.lower()\n",
    "all_data = ensure_data_schema(all_data, workload.schema)\n",
    "all_data.info()"
   ]
  },
  {
   "cell_type": "code",
   "execution_count": 20,
   "metadata": {},
   "outputs": [
    {
     "data": {
      "text/plain": [
       "6001"
      ]
     },
     "execution_count": 20,
     "metadata": {},
     "output_type": "execute_result"
    }
   ],
   "source": [
    "data = all_data.sample(frac=SAMPLING_RATE)\n",
    "len(data)"
   ]
  },
  {
   "attachments": {},
   "cell_type": "markdown",
   "metadata": {},
   "source": [
    "# Set up the environment"
   ]
  },
  {
   "cell_type": "code",
   "execution_count": 12,
   "metadata": {},
   "outputs": [
    {
     "name": "stderr",
     "output_type": "stream",
     "text": [
      "2023-05-14 14:21:14,320\tINFO worker.py:1382 -- Calling ray.init() again after it has already been called.\n"
     ]
    },
    {
     "data": {
      "text/html": [
       "<div>\n",
       "    <div style=\"margin-left: 50px;display: flex;flex-direction: row;align-items: center\">\n",
       "        <h3 style=\"color: var(--jp-ui-font-color0)\">Ray</h3>\n",
       "        <svg version=\"1.1\" id=\"ray\" width=\"3em\" viewBox=\"0 0 144.5 144.6\" style=\"margin-left: 3em;margin-right: 3em\">\n",
       "            <g id=\"layer-1\">\n",
       "                <path fill=\"#00a2e9\" class=\"st0\" d=\"M97.3,77.2c-3.8-1.1-6.2,0.9-8.3,5.1c-3.5,6.8-9.9,9.9-17.4,9.6S58,88.1,54.8,81.2c-1.4-3-3-4-6.3-4.1\n",
       "                    c-5.6-0.1-9.9,0.1-13.1,6.4c-3.8,7.6-13.6,10.2-21.8,7.6C5.2,88.4-0.4,80.5,0,71.7c0.1-8.4,5.7-15.8,13.8-18.2\n",
       "                    c8.4-2.6,17.5,0.7,22.3,8c1.3,1.9,1.3,5.2,3.6,5.6c3.9,0.6,8,0.2,12,0.2c1.8,0,1.9-1.6,2.4-2.8c3.5-7.8,9.7-11.8,18-11.9\n",
       "                    c8.2-0.1,14.4,3.9,17.8,11.4c1.3,2.8,2.9,3.6,5.7,3.3c1-0.1,2,0.1,3,0c2.8-0.5,6.4,1.7,8.1-2.7s-2.3-5.5-4.1-7.5\n",
       "                    c-5.1-5.7-10.9-10.8-16.1-16.3C84,38,81.9,37.1,78,38.3C66.7,42,56.2,35.7,53,24.1C50.3,14,57.3,2.8,67.7,0.5\n",
       "                    C78.4-2,89,4.7,91.5,15.3c0.1,0.3,0.1,0.5,0.2,0.8c0.7,3.4,0.7,6.9-0.8,9.8c-1.7,3.2-0.8,5,1.5,7.2c6.7,6.5,13.3,13,19.8,19.7\n",
       "                    c1.8,1.8,3,2.1,5.5,1.2c9.1-3.4,17.9-0.6,23.4,7c4.8,6.9,4.6,16.1-0.4,22.9c-5.4,7.2-14.2,9.9-23.1,6.5c-2.3-0.9-3.5-0.6-5.1,1.1\n",
       "                    c-6.7,6.9-13.6,13.7-20.5,20.4c-1.8,1.8-2.5,3.2-1.4,5.9c3.5,8.7,0.3,18.6-7.7,23.6c-7.9,5-18.2,3.8-24.8-2.9\n",
       "                    c-6.4-6.4-7.4-16.2-2.5-24.3c4.9-7.8,14.5-11,23.1-7.8c3,1.1,4.7,0.5,6.9-1.7C91.7,98.4,98,92.3,104.2,86c1.6-1.6,4.1-2.7,2.6-6.2\n",
       "                    c-1.4-3.3-3.8-2.5-6.2-2.6C99.8,77.2,98.9,77.2,97.3,77.2z M72.1,29.7c5.5,0.1,9.9-4.3,10-9.8c0-0.1,0-0.2,0-0.3\n",
       "                    C81.8,14,77,9.8,71.5,10.2c-5,0.3-9,4.2-9.3,9.2c-0.2,5.5,4,10.1,9.5,10.3C71.8,29.7,72,29.7,72.1,29.7z M72.3,62.3\n",
       "                    c-5.4-0.1-9.9,4.2-10.1,9.7c0,0.2,0,0.3,0,0.5c0.2,5.4,4.5,9.7,9.9,10c5.1,0.1,9.9-4.7,10.1-9.8c0.2-5.5-4-10-9.5-10.3\n",
       "                    C72.6,62.3,72.4,62.3,72.3,62.3z M115,72.5c0.1,5.4,4.5,9.7,9.8,9.9c5.6-0.2,10-4.8,10-10.4c-0.2-5.4-4.6-9.7-10-9.7\n",
       "                    c-5.3-0.1-9.8,4.2-9.9,9.5C115,72.1,115,72.3,115,72.5z M19.5,62.3c-5.4,0.1-9.8,4.4-10,9.8c-0.1,5.1,5.2,10.4,10.2,10.3\n",
       "                    c5.6-0.2,10-4.9,9.8-10.5c-0.1-5.4-4.5-9.7-9.9-9.6C19.6,62.3,19.5,62.3,19.5,62.3z M71.8,134.6c5.9,0.2,10.3-3.9,10.4-9.6\n",
       "                    c0.5-5.5-3.6-10.4-9.1-10.8c-5.5-0.5-10.4,3.6-10.8,9.1c0,0.5,0,0.9,0,1.4c-0.2,5.3,4,9.8,9.3,10\n",
       "                    C71.6,134.6,71.7,134.6,71.8,134.6z\"/>\n",
       "            </g>\n",
       "        </svg>\n",
       "        <table>\n",
       "            <tr>\n",
       "                <td style=\"text-align: left\"><b>Python version:</b></td>\n",
       "                <td style=\"text-align: left\"><b>3.8.10</b></td>\n",
       "            </tr>\n",
       "            <tr>\n",
       "                <td style=\"text-align: left\"><b>Ray version:</b></td>\n",
       "                <td style=\"text-align: left\"><b> 2.3.1</b></td>\n",
       "            </tr>\n",
       "            \n",
       "        </table>\n",
       "    </div>\n",
       "</div>\n"
      ],
      "text/plain": [
       "RayContext(dashboard_url='', python_version='3.8.10', ray_version='2.3.1', ray_commit='5f14cee8dfc6d61ec4fd3bc2c440f9944e92b33a', address_info={'node_ip_address': '192.168.75.74', 'raylet_ip_address': '192.168.75.74', 'redis_address': None, 'object_store_address': '/tmp/ray/session_2023-05-14_14-09-26_365836_25072/sockets/plasma_store', 'raylet_socket_name': '/tmp/ray/session_2023-05-14_14-09-26_365836_25072/sockets/raylet', 'webui_url': '', 'session_dir': '/tmp/ray/session_2023-05-14_14-09-26_365836_25072', 'metrics_export_port': 59196, 'gcs_address': '192.168.75.74:40557', 'address': '192.168.75.74:40557', 'dashboard_agent_listen_port': 52365, 'node_id': '9790178f757169f649542af646f31498807e6faa2523246e90be57ae'})"
      ]
     },
     "execution_count": 12,
     "metadata": {},
     "output_type": "execute_result"
    }
   ],
   "source": [
    "ray.init(local_mode=False, ignore_reinit_error=True)"
   ]
  },
  {
   "cell_type": "code",
   "execution_count": 21,
   "metadata": {},
   "outputs": [
    {
     "name": "stderr",
     "output_type": "stream",
     "text": [
      "\u001b[2m\u001b[36m(RolloutWorker pid=28675)\u001b[0m 2023-05-14 14:30:47,445\tWARNING env.py:156 -- Your env doesn't have a .spec.max_episode_steps attribute. Your horizon will default to infinity, and your environment will not be reset.\n",
      "\u001b[2m\u001b[36m(RolloutWorker pid=28675)\u001b[0m 2023-05-14 14:30:47,445\tWARNING env.py:166 -- Your env reset() method appears to take 'seed' or 'return_info' arguments. Note that these are not yet supported in RLlib. Seeding will take place using 'env.seed()' and the info dict will not be returned from reset.\n",
      "2023-05-14 14:30:47,875\tWARNING util.py:67 -- Install gputil for GPU system monitoring.\n"
     ]
    }
   ],
   "source": [
    "env_config = {\n",
    "    \"workload\": workload,\n",
    "    \"data\": data,\n",
    "    \"min_leaf_size\": MIN_BLOCK_SIZE,\n",
    "}\n",
    "\n",
    "config = (\n",
    "    PPOConfig()\n",
    "    .environment(\n",
    "        QdTreeEnv,\n",
    "        env_config=env_config,\n",
    "    )\n",
    "    .framework(\"torch\")\n",
    "    .rollouts(num_rollout_workers=5, batch_mode=\"complete_episodes\")\n",
    "    .training(\n",
    "        model={\n",
    "            \"fcnet_hiddens\": [512, 512],\n",
    "            \"fcnet_activation\": \"relu\",\n",
    "            # \"vf_share_layers\": True,\n",
    "        }\n",
    "    )\n",
    "    .multi_agent(\n",
    "        policies={DEFAULT_POLICY_ID: PolicySpec(policy_class=QdTreePolicy)}\n",
    "    )\n",
    "    # Use GPUs iff `RLLIB_NUM_GPUS` env var set to > 0.\n",
    "    .resources(num_gpus=int(os.environ.get(\"RLLIB_NUM_GPUS\", \"0\")))\n",
    ")\n",
    "\n",
    "algo = config.build()\n",
    "\n",
    "stop = {\n",
    "    \"training_iteration\": 10,\n",
    "    \"timesteps_total\": 40000,\n",
    "    \"episode_reward_mean\": 0.95,\n",
    "}"
   ]
  },
  {
   "cell_type": "code",
   "execution_count": 22,
   "metadata": {},
   "outputs": [
    {
     "data": {
      "text/html": [
       "<div class=\"tuneStatus\">\n",
       "  <div style=\"display: flex;flex-direction: row\">\n",
       "    <div style=\"display: flex;flex-direction: column;\">\n",
       "      <h3>Tune Status</h3>\n",
       "      <table>\n",
       "<tbody>\n",
       "<tr><td>Current time:</td><td>2023-05-14 14:33:32</td></tr>\n",
       "<tr><td>Running for: </td><td>00:02:26.18        </td></tr>\n",
       "<tr><td>Memory:      </td><td>14.3/31.3 GiB      </td></tr>\n",
       "</tbody>\n",
       "</table>\n",
       "    </div>\n",
       "    <div class=\"vDivider\"></div>\n",
       "    <div class=\"systemInfo\">\n",
       "      <h3>System Info</h3>\n",
       "      Using FIFO scheduling algorithm.<br>Resources requested: 0/24 CPUs, 0/0 GPUs, 0.0/13.47 GiB heap, 0.0/6.74 GiB objects\n",
       "    </div>\n",
       "    \n",
       "  </div>\n",
       "  <div class=\"hDivider\"></div>\n",
       "  <div class=\"trialStatus\">\n",
       "    <h3>Trial Status</h3>\n",
       "    <table>\n",
       "<thead>\n",
       "<tr><th>Trial name               </th><th>status    </th><th>loc                </th><th style=\"text-align: right;\">  iter</th><th style=\"text-align: right;\">  total time (s)</th><th style=\"text-align: right;\">   ts</th><th style=\"text-align: right;\">  reward</th><th style=\"text-align: right;\">  episode_reward_max</th><th style=\"text-align: right;\">  episode_reward_min</th><th style=\"text-align: right;\">  episode_len_mean</th></tr>\n",
       "</thead>\n",
       "<tbody>\n",
       "<tr><td>PPO_QdTreeEnv_7d18b_00000</td><td>TERMINATED</td><td>192.168.75.74:29201</td><td style=\"text-align: right;\">     3</td><td style=\"text-align: right;\">           138.3</td><td style=\"text-align: right;\">12072</td><td style=\"text-align: right;\">0.309581</td><td style=\"text-align: right;\">            0.561806</td><td style=\"text-align: right;\">          0.00149975</td><td style=\"text-align: right;\">           9.60476</td></tr>\n",
       "</tbody>\n",
       "</table>\n",
       "  </div>\n",
       "</div>\n",
       "<style>\n",
       ".tuneStatus {\n",
       "  color: var(--jp-ui-font-color1);\n",
       "}\n",
       ".tuneStatus .systemInfo {\n",
       "  display: flex;\n",
       "  flex-direction: column;\n",
       "}\n",
       ".tuneStatus td {\n",
       "  white-space: nowrap;\n",
       "}\n",
       ".tuneStatus .trialStatus {\n",
       "  display: flex;\n",
       "  flex-direction: column;\n",
       "}\n",
       ".tuneStatus h3 {\n",
       "  font-weight: bold;\n",
       "}\n",
       ".tuneStatus .hDivider {\n",
       "  border-bottom-width: var(--jp-border-width);\n",
       "  border-bottom-color: var(--jp-border-color0);\n",
       "  border-bottom-style: solid;\n",
       "}\n",
       ".tuneStatus .vDivider {\n",
       "  border-left-width: var(--jp-border-width);\n",
       "  border-left-color: var(--jp-border-color0);\n",
       "  border-left-style: solid;\n",
       "  margin: 0.5em 1em 0.5em 1em;\n",
       "}\n",
       "</style>\n"
      ],
      "text/plain": [
       "<IPython.core.display.HTML object>"
      ]
     },
     "metadata": {},
     "output_type": "display_data"
    },
    {
     "name": "stderr",
     "output_type": "stream",
     "text": [
      "\u001b[2m\u001b[36m(PPO pid=29201)\u001b[0m 2023-05-14 14:31:09,448\tWARNING algorithm_config.py:596 -- Cannot create PPOConfig from given `config_dict`! Property __stdout_file__ not supported.\n",
      "\u001b[2m\u001b[36m(PPO pid=29201)\u001b[0m 2023-05-14 14:31:09,650\tINFO algorithm.py:506 -- Current log_level is WARN. For more information, set 'log_level': 'INFO' / 'DEBUG' or use the -v and -vv flags.\n",
      "\u001b[2m\u001b[36m(PPO pid=29201)\u001b[0m 2023-05-14 14:31:13,599\tWARNING util.py:67 -- Install gputil for GPU system monitoring.\n"
     ]
    },
    {
     "data": {
      "text/html": [
       "<div class=\"trialProgress\">\n",
       "  <h3>Trial Progress</h3>\n",
       "  <table>\n",
       "<thead>\n",
       "<tr><th>Trial name               </th><th style=\"text-align: right;\">  agent_timesteps_total</th><th>connector_metrics                                                                                                                                              </th><th>counters                                                                                                                            </th><th>custom_metrics  </th><th>date               </th><th>done  </th><th style=\"text-align: right;\">  episode_len_mean</th><th>episode_media  </th><th style=\"text-align: right;\">  episode_reward_max</th><th style=\"text-align: right;\">  episode_reward_mean</th><th style=\"text-align: right;\">  episode_reward_min</th><th style=\"text-align: right;\">  episodes_this_iter</th><th style=\"text-align: right;\">  episodes_total</th><th>experiment_id                   </th><th>hostname  </th><th>info                                                                                                                                                                                                                                                                                                                                                                                                                                                                                                                                                                                                                                                                                                                 </th><th style=\"text-align: right;\">  iterations_since_restore</th><th>node_ip      </th><th style=\"text-align: right;\">  num_agent_steps_sampled</th><th style=\"text-align: right;\">  num_agent_steps_trained</th><th style=\"text-align: right;\">  num_env_steps_sampled</th><th style=\"text-align: right;\">  num_env_steps_sampled_this_iter</th><th style=\"text-align: right;\">  num_env_steps_trained</th><th style=\"text-align: right;\">  num_env_steps_trained_this_iter</th><th style=\"text-align: right;\">  num_faulty_episodes</th><th style=\"text-align: right;\">  num_healthy_workers</th><th style=\"text-align: right;\">  num_in_flight_async_reqs</th><th style=\"text-align: right;\">  num_remote_worker_restarts</th><th style=\"text-align: right;\">  num_steps_trained_this_iter</th><th>perf                                                                  </th><th style=\"text-align: right;\">  pid</th><th>policy_reward_max  </th><th>policy_reward_mean  </th><th>policy_reward_min  </th><th>sampler_perf                                                                                                                                                                                                   </th><th>sampler_results                                                                                                                                                                                                                                                                                                                                                                                                                                                                                                                                                                                                                                                                                                                                                                                                                                                                                                                                                                                                                                                                                                                                                                                                                                                                                                                                                                                                                                                                                                                                                                                                                                                                                                                                                                                                                                                                                                                                                                                                                                                                                                                                                                                                                                                                                                                                                                                                                                                                                                                                                                                                                                                                                                                                                                                                                                                                                                                                                                                                                                                                                                                                                                                                                                                                                                                                                                                                                                                                                                                                                                                                                                                                                                                                                                                                                                                                                                                                                                                                                                                                                                                                                                                                                                                                                                                                                                                                                                                                                                                                                                                                                                                                                                                                                                                                                                                                                                                                                                                                                                                                                                                                                                                                                                                                                                                                                                                                                                                                                                                                                                                                                                                                                                                                                                                                                                                                                                                                                                                                                                                                                                                                                                                                                                                                                                                                                                                                                                                                                                                                                                                                                                                                                                                                                                                                                                                                                                                                                                                                                                                                                                                                                                                                                                                                                                                                                                                                                                                                                                                                                                                                                                                                                                                                                                                                                                                                                                                                                                                                                                                                                                                                                                                                                                                                                                                                                                                                                                                                                                                                                                                                                                                                                                                                                                                                                                                                                                                                                                                                                                                                                                                                                                                                                                                                                                                                                                                                                                                                                                                                                                                                                                                                                                                                                                                                                                                                                                                                                                                                                                                                                                                                                                                                                                                                                                                                                                                                                                                                                                                                                                                                                                                                                                                                                                                                                                                                                                                                                                                                                                                                                                                                                                                                                                                                                                                                </th><th style=\"text-align: right;\">  time_since_restore</th><th style=\"text-align: right;\">  time_this_iter_s</th><th style=\"text-align: right;\">  time_total_s</th><th>timers                                                                                                                                                                                   </th><th style=\"text-align: right;\">  timestamp</th><th style=\"text-align: right;\">  timesteps_since_restore</th><th style=\"text-align: right;\">  timesteps_total</th><th style=\"text-align: right;\">  training_iteration</th><th>trial_id   </th><th style=\"text-align: right;\">  warmup_time</th></tr>\n",
       "</thead>\n",
       "<tbody>\n",
       "<tr><td>PPO_QdTreeEnv_7d18b_00000</td><td style=\"text-align: right;\">                  12072</td><td>{&#x27;ObsPreprocessorConnector_ms&#x27;: 0.014071578071230934, &#x27;StateBufferConnector_ms&#x27;: 0.009673266183762323, &#x27;ViewRequirementAgentConnector_ms&#x27;: 0.20046012742178781}</td><td>{&#x27;num_env_steps_sampled&#x27;: 12072, &#x27;num_env_steps_trained&#x27;: 12072, &#x27;num_agent_steps_sampled&#x27;: 12072, &#x27;num_agent_steps_trained&#x27;: 12072}</td><td>{}              </td><td>2023-05-14_14-33-32</td><td>True  </td><td style=\"text-align: right;\">           9.60476</td><td>{}             </td><td style=\"text-align: right;\">            0.561806</td><td style=\"text-align: right;\">             0.309581</td><td style=\"text-align: right;\">          0.00149975</td><td style=\"text-align: right;\">                 420</td><td style=\"text-align: right;\">            1358</td><td>de3bd72764b44c909ad7f630d582abf3</td><td>HOMELAB   </td><td>{&#x27;learner&#x27;: {&#x27;default_policy&#x27;: {&#x27;learner_stats&#x27;: {&#x27;allreduce_latency&#x27;: 0.0, &#x27;grad_gnorm&#x27;: 13.553956789483307, &#x27;cur_kl_coeff&#x27;: 0.4500000000000001, &#x27;cur_lr&#x27;: 5.0000000000000016e-05, &#x27;total_loss&#x27;: 2.2576730605094664, &#x27;policy_loss&#x27;: -0.04013065214429091, &#x27;vf_loss&#x27;: 2.2893530917424028, &#x27;vf_explained_var&#x27;: 0.10801456532170696, &#x27;kl&#x27;: 0.018779171893011055, &#x27;entropy&#x27;: 3.082078647100797, &#x27;entropy_coeff&#x27;: 0.0}, &#x27;model&#x27;: {}, &#x27;custom_metrics&#x27;: {}, &#x27;num_agent_steps_trained&#x27;: 128.0, &#x27;num_grad_updates_lifetime&#x27;: 2325.5, &#x27;diff_num_grad_updates_vs_sampler_policy&#x27;: 464.5}}, &#x27;num_env_steps_sampled&#x27;: 12072, &#x27;num_env_steps_trained&#x27;: 12072, &#x27;num_agent_steps_sampled&#x27;: 12072, &#x27;num_agent_steps_trained&#x27;: 12072}</td><td style=\"text-align: right;\">                         3</td><td>192.168.75.74</td><td style=\"text-align: right;\">                    12072</td><td style=\"text-align: right;\">                    12072</td><td style=\"text-align: right;\">                  12072</td><td style=\"text-align: right;\">                             4034</td><td style=\"text-align: right;\">                  12072</td><td style=\"text-align: right;\">                             4034</td><td style=\"text-align: right;\">                    0</td><td style=\"text-align: right;\">                    5</td><td style=\"text-align: right;\">                         0</td><td style=\"text-align: right;\">                           0</td><td style=\"text-align: right;\">                         4034</td><td>{&#x27;cpu_util_percent&#x27;: 6.5234375, &#x27;ram_util_percent&#x27;: 45.68906249999999}</td><td style=\"text-align: right;\">29201</td><td>{}                 </td><td>{}                  </td><td>{}                 </td><td>{&#x27;mean_raw_obs_processing_ms&#x27;: 0.6667887888119145, &#x27;mean_inference_ms&#x27;: 2.6279201217550527, &#x27;mean_action_processing_ms&#x27;: 0.1892432076968075, &#x27;mean_env_wait_ms&#x27;: 1.1887411672170634, &#x27;mean_env_render_ms&#x27;: 0.0}</td><td>{&#x27;episode_reward_max&#x27;: 0.5618063656057324, &#x27;episode_reward_min&#x27;: 0.0014997500416597234, &#x27;episode_reward_mean&#x27;: 0.30958086350687575, &#x27;episode_len_mean&#x27;: 9.604761904761904, &#x27;episode_media&#x27;: {}, &#x27;episodes_this_iter&#x27;: 420, &#x27;policy_reward_min&#x27;: {}, &#x27;policy_reward_max&#x27;: {}, &#x27;policy_reward_mean&#x27;: {}, &#x27;custom_metrics&#x27;: {}, &#x27;hist_stats&#x27;: {&#x27;episode_reward&#x27;: [0.4419818919069044, 0.3581069821696384, 0.4625451313669944, 0.24467033272232405, 0.4037993667722046, 0.13474420929845027, 0.3849358440259957, 0.514347608731878, 0.317158251402544, 0.3547408765205799, 0.4003110592678998, 0.48999611175915125, 0.2907404321501972, 0.3955896239515636, 0.15041937454868634, 0.3073487752041326, 0.13474420929845027, 0.21254235405210242, 0.31726934399822254, 0.33811031494750876, 0.3905682386268955, 0.13037827028828528, 0.4443370549352886, 0.32974504249291786, 0.0021663056157307115, 0.3815919568960729, 0.2956507248791868, 0.16516136199522302, 0.44454813086707773, 0.29976115091929123, 0.16516136199522302, 0.2985280231072599, 0.35780703216130644, 0.3523412764539243, 0.0014997500416597234, 0.12306837749264012, 0.45106926623340554, 0.3569849469532856, 0.33489973893240016, 0.4516691662500694, 0.38143642726212296, 0.20492140198855746, 0.4033216686107871, 0.15397433761039828, 0.3899794478697995, 0.39582291840248846, 0.36360606565572406, 0.4276398378048103, 0.31297006054546467, 0.3723601621951897, 0.42519580069988333, 0.23454979725601288, 0.26254513136699437, 0.26525579070154975, 0.47933122257401545, 0.46992167972004667, 0.45198022551796924, 0.058767983113925455, 0.42282952841193133, 0.4642115203021719, 0.14253180025551296, 0.002310725990112759, 0.31456979392323503, 0.2632227962006332, 0.3839026828861856, 0.38970171638060325, 0.21163139476753876, 0.2525467977559296, 0.16108426373382215, 0.38983502749541743, 0.21397544853635506, 0.09278453591068156, 0.4130311614730878, 0.30386046769982783, 0.4697883686052325, 0.2610564905849025, 0.38594678664667, 0.1527301005387991, 0.294306504471477, 0.2511248125312448, 0.2253180025551297, 0.2593789923901572, 0.28019774482030774, 0.440682108537466, 0.2074765316891629, 0.47884241515303005, 0.13474420929845027, 0.27868688551908016, 0.3369882797311559, 0.26155640726545576, 0.38365827917569295, 0.2411375881797478, 0.402144087096595, 0.4669666166749986, 0.3815364105982336, 0.3979003499416764, 0.2756429483974893, 0.3305560184413709, 0.2610564905849025, 0.19828917402655113, 0.1787590957062712, 0.3852357940343276, 0.5581847469866134, 0.17564850302727322, 0.29640615452980057, 0.30342720657668165, 0.30620452146864413, 0.3626617785924568, 0.1437649280675443, 0.0019996667222129645, 0.3417208243070599, 0.292084652557907, 0.43235016386157865, 0.26128978503582734, 0.3757040493251125, 0.5409431761373105, 0.5382991723601622, 0.4359162361828584, 0.33036716102871744, 0.4076876076209521, 0.298594678664667, 0.3337888129756152, 0.3030606010109426, 0.46494473143364995, 0.19483419430094984, 0.1787590957062712, 0.3610731544742543, 0.3011164805865689, 0.4249625062489585, 0.2692217963672721, 0.21408654113203354, 0.39857801477531524, 0.29458423596067324, 0.3021163139476754, 0.14308726323390547, 0.4001888574126534, 0.3327223240571016, 0.26017885907904237, 0.22107426540021108, 0.18919069044048215, 0.4020996500583236, 0.08932955618508026, 0.3973893240015553, 0.36066211187024383, 0.4303616063989335, 0.3955785146919958, 0.2001555296339499, 0.2984613675498528, 0.2980836527245459, 0.12175748486363384, 0.14096539465644614, 0.21078709104038215, 0.36143976003999334, 0.20255512970060546, 0.41999666722212964, 0.20492140198855746, 0.36000666555574073, 0.30210520468810753, 0.3923346108981836, 0.32744542576237295, 0.412275731822474, 0.4218408043103927, 0.4303838249180692, 0.16108426373382215, 0.29302893962117427, 0.30192745653502195, 0.2121757484863634, 0.2707770927067711, 0.2076987168805199, 0.19873354440926513, 0.369971671388102, 0.293195578514692, 0.29070710437149366, 0.2901738599122369, 0.19765594623118368, 0.20932066877742597, 0.39640059990001664, 0.3789146253402211, 0.3369216241737488, 0.11975781814142088, 0.35074154307615396, 0.3755040826528912, 0.20492140198855746, 0.2991723601621952, 0.31085930122757316, 0.29827251013719935, 0.4888629672832306, 0.2822418485807921, 0.3251124812531245, 0.26666666666666666, 0.42537354885296896, 0.2901738599122369, 0.13729933899905572, 0.20802088540798755, 0.3877353774370938, 0.24601455313003387, 0.0021663056157307115, 0.3937010498250292, 0.1954452035771816, 0.2614786424484808, 0.39910014997500415, 0.39537854801977446, 0.31533633283341667, 0.29561739710048324, 0.3458201410875965, 0.33182247403210574, 0.2130978170304949, 0.20932066877742597, 0.19560073321113147, 0.48634116536132865, 0.2032994500916514, 0.2794978614675332, 0.36686107870910406, 0.2921290895961784, 0.3332444592567905, 0.22555129700605456, 0.283208354163195, 0.2593789923901572, 0.2999944453702161, 0.14096539465644614, 0.24676998278064766, 0.3051269232905627, 0.2812197967005499, 0.3561184247069933, 0.4511470310503805, 0.3336777203799367, 0.24819196800533244, 0.3492306837749264, 0.058767983113925455, 0.2912070210520469, 0.3775592956729434, 0.34897517080486584, 0.20932066877742597, 0.27868688551908016, 0.44776981614175415, 0.4897405987890907, 0.2938399155696273, 0.29234016552796754, 0.2000888740765428, 0.428550797089374, 0.20932066877742597, 0.0932844525912348, 0.4480253291118147, 0.16425040271065933, 0.39297894795311894, 0.28056435038604677, 0.20086652224629228, 0.14246514469810587, 0.2604343720491029, 0.37248236405043605, 0.19700049991668056, 0.33633283341665277, 0.30192745653502195, 0.13923235016386157, 0.30373826584458147, 0.06315614064322612, 0.3292117980336611, 0.26118980169971673, 0.39812253513303336, 0.3030606010109426, 0.28678553574404264, 0.22198522468477477, 0.3611175915125257, 0.4254290951508082, 0.3305560184413709, 0.3532077987002166, 0.40415486307837584, 0.31343664944731436, 0.3305560184413709, 0.2610564905849025, 0.37663722712881187, 0.2948064211520302, 0.2622562906182303, 0.2617230461589735, 0.3091040382158529, 0.3161139810031661, 0.20943176137310449, 0.4279731155918458, 0.37574848636338387, 0.21209798366938842, 0.3491640282175193, 0.21085374659778927, 0.34339832250180524, 0.4835860689885019, 0.3880019996667222, 0.3963228350830417, 0.27733155585180247, 0.4377492640115536, 0.16077320446592236, 0.4086096761650836, 0.16108426373382215, 0.40226628895184136, 0.5618063656057324, 0.2974615341887463, 0.40697661500860965, 0.3092817863689385, 0.030561573071154806, 0.5097372660112204, 0.16516136199522302, 0.2821974115425207, 0.42869521746375605, 0.34799755596289506, 0.3740154418707993, 0.4780536577237127, 0.4197411542520691, 0.3632172415708493, 0.4767872021329778, 0.42401821918569127, 0.23212797867022164, 0.3779814475365217, 0.2584902516247292, 0.497705937899239, 0.15005276898294728, 0.3505304671443648, 0.47313225573515527, 0.28483030606010107, 0.27121035382991726, 0.36635005276898297, 0.3911681386435594, 0.3588401933011165, 0.31460312170193855, 0.4091429206243404, 0.2525801255346331, 0.3721379770038327, 0.2989835027495417, 0.3963894906404488, 0.4140087763150586, 0.35207465422429596, 0.4116647225462423, 0.14096539465644614, 0.5472421263122813, 0.34520913181136476, 0.5143920457701494, 0.2641559740043326, 0.3305560184413709, 0.4813308892962284, 0.3072710103871577, 0.0021663056157307115, 0.262278509137366, 0.40651002610675996, 0.5089707271010387, 0.46083430539354553, 0.3599400099983336, 0.37763706048991835, 0.27689829472865635, 0.030561573071154806, 0.25098039215686274, 0.2651780258845748, 0.12888962950619343, 0.3757040493251125, 0.4205521302005221, 0.3686607787590957, 0.277664833638838, 0.39120146642226294, 0.4345164694773093, 0.3718602455146364, 0.2610564905849025, 0.26064544798089206, 0.32570127201022053, 0.43416097317113816, 0.20692106871077043, 0.23452757873687718, 0.46080097761484196, 0.2938399155696273, 0.3737154918624674, 0.27145475754040993, 0.2396156196189524, 0.1911014830861523, 0.38680219963339446, 0.4048880742098539, 0.3370882630672666, 0.24716991612509026, 0.26296728323057267, 0.03256123979336777, 0.38910181636393937, 0.4426262289618397, 0.2610564905849025, 0.1388546353385547, 0.3031161473087819, 0.30250513803255014, 0.27127700938732435, 0.20932066877742597, 0.37663722712881187, 0.33715491862467367, 0.2697883686052325, 0.36936066211187024, 0.2411375881797478, 0.12051324779203466, 0.39583402766205633, 0.34295395211909124, 0.1771149252902294, 0.4087429872798978, 0.461467533188913, 0.2716325056934955, 0.0021663056157307115, 0.5467644281508638, 0.24985835694050992, 0.3859245681275343, 0.5162584013775482, 0.4198300283286119, 0.38091429206243405, 0.43300561017608175, 0.422929511748042, 0.21667499861134257, 0.3305560184413709, 0.4339943342776204, 0.3543409431761373, 0.3770927067710937, 0.0021663056157307115, 0.4039882241848581, 0.14203188357495972, 0.35637393767705383, 0.29405099150141645, 0.14096539465644614, 0.13674387602066324, 0.46131200355496305, 0.37032716769427315, 0.3760039993334444, 0.0014997500416597234, 0.25194689773926565], &#x27;episode_lengths&#x27;: [16, 14, 12, 8, 12, 4, 8, 12, 10, 12, 8, 16, 6, 10, 4, 8, 4, 8, 6, 6, 12, 10, 14, 12, 4, 22, 8, 4, 14, 10, 4, 12, 10, 6, 4, 6, 6, 6, 8, 16, 10, 4, 12, 8, 10, 8, 14, 18, 16, 14, 20, 10, 8, 8, 8, 20, 10, 4, 16, 16, 6, 4, 10, 6, 6, 16, 6, 8, 6, 12, 6, 6, 10, 8, 16, 4, 8, 6, 12, 10, 10, 6, 10, 16, 6, 12, 4, 10, 6, 10, 12, 6, 14, 14, 10, 12, 8, 4, 4, 8, 6, 12, 16, 12, 8, 10, 6, 8, 8, 4, 10, 8, 10, 6, 6, 22, 14, 12, 12, 12, 8, 8, 8, 12, 8, 6, 8, 6, 10, 8, 8, 14, 12, 16, 6, 12, 6, 12, 6, 6, 16, 6, 14, 12, 18, 12, 10, 10, 10, 8, 4, 6, 12, 6, 10, 4, 12, 8, 10, 6, 20, 6, 18, 4, 10, 8, 6, 16, 8, 10, 10, 10, 8, 6, 8, 4, 10, 8, 10, 6, 8, 16, 4, 12, 10, 8, 14, 8, 6, 8, 12, 6, 6, 6, 10, 12, 4, 12, 10, 6, 10, 12, 14, 6, 16, 10, 8, 4, 8, 16, 18, 8, 14, 8, 10, 10, 10, 6, 10, 4, 14, 10, 6, 10, 14, 6, 12, 10, 4, 8, 16, 10, 4, 6, 10, 14, 6, 8, 8, 10, 4, 6, 12, 12, 12, 8, 6, 6, 8, 6, 6, 16, 10, 6, 6, 6, 12, 16, 14, 10, 8, 6, 6, 14, 4, 12, 8, 14, 4, 4, 10, 8, 8, 8, 10, 16, 8, 12, 14, 10, 8, 12, 10, 14, 12, 12, 6, 10, 6, 12, 4, 8, 18, 10, 16, 10, 4, 18, 4, 12, 8, 14, 14, 8, 14, 10, 16, 12, 8, 16, 12, 14, 6, 10, 12, 6, 6, 12, 8, 10, 8, 10, 14, 10, 12, 14, 14, 8, 10, 6, 18, 8, 18, 14, 4, 12, 8, 4, 12, 8, 14, 14, 10, 12, 12, 4, 10, 6, 8, 6, 12, 10, 10, 10, 12, 6, 4, 10, 10, 14, 6, 4, 14, 6, 12, 6, 8, 8, 8, 12, 8, 6, 14, 6, 20, 12, 4, 8, 4, 10, 8, 4, 8, 14, 6, 12, 6, 4, 8, 8, 8, 14, 8, 8, 4, 18, 16, 12, 10, 16, 12, 12, 12, 6, 4, 16, 8, 14, 4, 12, 6, 10, 10, 4, 6, 14, 10, 12, 4, 14]}, &#x27;sampler_perf&#x27;: {&#x27;mean_raw_obs_processing_ms&#x27;: 0.6667887888119145, &#x27;mean_inference_ms&#x27;: 2.6279201217550527, &#x27;mean_action_processing_ms&#x27;: 0.1892432076968075, &#x27;mean_env_wait_ms&#x27;: 1.1887411672170634, &#x27;mean_env_render_ms&#x27;: 0.0}, &#x27;num_faulty_episodes&#x27;: 0, &#x27;connector_metrics&#x27;: {&#x27;ObsPreprocessorConnector_ms&#x27;: 0.014071578071230934, &#x27;StateBufferConnector_ms&#x27;: 0.009673266183762323, &#x27;ViewRequirementAgentConnector_ms&#x27;: 0.20046012742178781}}</td><td style=\"text-align: right;\">               138.3</td><td style=\"text-align: right;\">            45.162</td><td style=\"text-align: right;\">         138.3</td><td>{&#x27;training_iteration_time_ms&#x27;: 46086.698, &#x27;load_time_ms&#x27;: 0.965, &#x27;load_throughput&#x27;: 4171153.957, &#x27;learn_time_ms&#x27;: 42119.596, &#x27;learn_throughput&#x27;: 95.537, &#x27;synch_weights_time_ms&#x27;: 23.098}</td><td style=\"text-align: right;\"> 1684089212</td><td style=\"text-align: right;\">                        0</td><td style=\"text-align: right;\">            12072</td><td style=\"text-align: right;\">                   3</td><td>7d18b_00000</td><td style=\"text-align: right;\">      3.96559</td></tr>\n",
       "</tbody>\n",
       "</table>\n",
       "</div>\n",
       "<style>\n",
       ".trialProgress {\n",
       "  display: flex;\n",
       "  flex-direction: column;\n",
       "  color: var(--jp-ui-font-color1);\n",
       "}\n",
       ".trialProgress h3 {\n",
       "  font-weight: bold;\n",
       "}\n",
       ".trialProgress td {\n",
       "  white-space: nowrap;\n",
       "}\n",
       "</style>\n"
      ],
      "text/plain": [
       "<IPython.core.display.HTML object>"
      ]
     },
     "metadata": {},
     "output_type": "display_data"
    }
   ],
   "source": [
    "tuner = tune.Tuner(\n",
    "    \"PPO\",\n",
    "    param_space=config.to_dict(),\n",
    "    run_config=air.RunConfig(\n",
    "        local_dir=\"./results\",\n",
    "        stop=stop,\n",
    "        checkpoint_config=air.CheckpointConfig(checkpoint_at_end=True),\n",
    "    ),\n",
    ")\n",
    "result = tuner.fit()"
   ]
  },
  {
   "cell_type": "code",
   "execution_count": 27,
   "metadata": {},
   "outputs": [
    {
     "name": "stderr",
     "output_type": "stream",
     "text": [
      "\u001b[2m\u001b[36m(RolloutWorker pid=32265)\u001b[0m 2023-05-14 14:38:45,464\tWARNING env.py:156 -- Your env doesn't have a .spec.max_episode_steps attribute. Your horizon will default to infinity, and your environment will not be reset.\n",
      "\u001b[2m\u001b[36m(RolloutWorker pid=32265)\u001b[0m 2023-05-14 14:38:45,464\tWARNING env.py:166 -- Your env reset() method appears to take 'seed' or 'return_info' arguments. Note that these are not yet supported in RLlib. Seeding will take place using 'env.seed()' and the info dict will not be returned from reset.\n",
      "2023-05-14 14:38:45,740\tWARNING util.py:67 -- Install gputil for GPU system monitoring.\n",
      "2023-05-14 14:38:45,837\tINFO trainable.py:791 -- Restored on 192.168.75.74 from checkpoint: /home/ctring/src/qdtree/src/results/PPO/PPO_QdTreeEnv_7d18b_00000_0_2023-05-14_14-31-06/checkpoint_000003\n",
      "2023-05-14 14:38:45,838\tINFO trainable.py:800 -- Current state after restoring: {'_iteration': 3, '_timesteps_total': None, '_time_total': 138.29967379570007, '_episodes_total': 1358}\n"
     ]
    },
    {
     "name": "stdout",
     "output_type": "stream",
     "text": [
      "[{'c_acctbal': (-inf, inf),\n",
      "  'c_custkey': (-inf, inf),\n",
      "  'c_nationkey': (-inf, inf),\n",
      "  'l_commitdate': (-inf, inf),\n",
      "  'l_discount': (-inf, inf),\n",
      "  'l_extendedprice': (-inf, inf),\n",
      "  'l_linenumber': (-inf, inf),\n",
      "  'l_orderkey': (-inf, inf),\n",
      "  'l_partkey': (-inf, inf),\n",
      "  'l_quantity': (-inf, inf),\n",
      "  'l_receiptdate': (-inf, inf),\n",
      "  'l_shipdate': (-inf, inf),\n",
      "  'l_suppkey': (-inf, inf),\n",
      "  'l_tax': (-inf, inf),\n",
      "  'n_nationkey_cust': (-inf, inf),\n",
      "  'n_nationkey_supp': (-inf, inf),\n",
      "  'n_regionkey_cust': (-inf, inf),\n",
      "  'n_regionkey_supp': (-inf, inf),\n",
      "  'o_custkey': (-inf, inf),\n",
      "  'o_orderdate': [854773200, 875678400),\n",
      "  'o_orderkey': (-inf, inf),\n",
      "  'o_shippriority': (-inf, inf),\n",
      "  'o_totalprice': (-inf, inf),\n",
      "  'p_partkey': (-inf, inf),\n",
      "  'p_retailprice': (-inf, inf),\n",
      "  'p_size': (-inf, inf),\n",
      "  'ps_availqty': (-inf, inf),\n",
      "  'ps_partkey': (-inf, inf),\n",
      "  'ps_suppkey': (-inf, inf),\n",
      "  'ps_supplycost': (-inf, inf),\n",
      "  'r_regionkey_cust': (-inf, inf),\n",
      "  'r_regionkey_supp': (-inf, inf),\n",
      "  's_acctbal': (-inf, inf),\n",
      "  's_nationkey': (-inf, inf),\n",
      "  's_suppkey': (-inf, inf)},\n",
      " {'c_acctbal': (-inf, inf),\n",
      "  'c_custkey': (-inf, inf),\n",
      "  'c_nationkey': (-inf, inf),\n",
      "  'l_commitdate': (-inf, inf),\n",
      "  'l_discount': (-inf, inf),\n",
      "  'l_extendedprice': (-inf, inf),\n",
      "  'l_linenumber': (-inf, inf),\n",
      "  'l_orderkey': (-inf, inf),\n",
      "  'l_partkey': (-inf, inf),\n",
      "  'l_quantity': (-inf, inf),\n",
      "  'l_receiptdate': (-inf, inf),\n",
      "  'l_shipdate': (-inf, inf),\n",
      "  'l_suppkey': (-inf, inf),\n",
      "  'l_tax': (-inf, inf),\n",
      "  'n_nationkey_cust': (-inf, inf),\n",
      "  'n_nationkey_supp': (-inf, inf),\n",
      "  'n_regionkey_cust': (-inf, inf),\n",
      "  'n_regionkey_supp': (-inf, inf),\n",
      "  'o_custkey': (-inf, inf),\n",
      "  'o_orderdate': [794034000, 854773200),\n",
      "  'o_orderkey': (-inf, inf),\n",
      "  'o_shippriority': (-inf, inf),\n",
      "  'o_totalprice': (-inf, inf),\n",
      "  'p_partkey': (-inf, inf),\n",
      "  'p_retailprice': (-inf, inf),\n",
      "  'p_size': (-inf, inf),\n",
      "  'ps_availqty': (-inf, inf),\n",
      "  'ps_partkey': (-inf, inf),\n",
      "  'ps_suppkey': (-inf, inf),\n",
      "  'ps_supplycost': (-inf, inf),\n",
      "  'r_regionkey_cust': (-inf, inf),\n",
      "  'r_regionkey_supp': (-inf, inf),\n",
      "  's_acctbal': (-inf, inf),\n",
      "  's_nationkey': (-inf, inf),\n",
      "  's_suppkey': (-inf, inf)},\n",
      " {'c_acctbal': (-inf, inf),\n",
      "  'c_custkey': (-inf, inf),\n",
      "  'c_nationkey': (-inf, inf),\n",
      "  'l_commitdate': (-inf, inf),\n",
      "  'l_discount': (-inf, inf),\n",
      "  'l_extendedprice': (-inf, inf),\n",
      "  'l_linenumber': (-inf, inf),\n",
      "  'l_orderkey': (-inf, inf),\n",
      "  'l_partkey': (-inf, inf),\n",
      "  'l_quantity': (-inf, inf),\n",
      "  'l_receiptdate': (-inf, inf),\n",
      "  'l_shipdate': (-inf, inf),\n",
      "  'l_suppkey': (-inf, inf),\n",
      "  'l_tax': (-inf, inf),\n",
      "  'n_nationkey_cust': (-inf, inf),\n",
      "  'n_nationkey_supp': (-inf, inf),\n",
      "  'n_regionkey_cust': (-inf, inf),\n",
      "  'n_regionkey_supp': (-inf, inf),\n",
      "  'o_custkey': (-inf, inf),\n",
      "  'o_orderdate': (-inf, 794034000),\n",
      "  'o_orderkey': (-inf, inf),\n",
      "  'o_shippriority': (-inf, inf),\n",
      "  'o_totalprice': (-inf, inf),\n",
      "  'p_partkey': (-inf, inf),\n",
      "  'p_retailprice': (-inf, inf),\n",
      "  'p_size': (-inf, inf),\n",
      "  'ps_availqty': (-inf, inf),\n",
      "  'ps_partkey': (-inf, inf),\n",
      "  'ps_suppkey': (-inf, inf),\n",
      "  'ps_supplycost': (-inf, inf),\n",
      "  'r_regionkey_cust': (-inf, inf),\n",
      "  'r_regionkey_supp': (-inf, inf),\n",
      "  's_acctbal': (-inf, inf),\n",
      "  's_nationkey': (-inf, inf),\n",
      "  's_suppkey': (-inf, inf)},\n",
      " {'c_acctbal': (-inf, inf),\n",
      "  'c_custkey': (-inf, inf),\n",
      "  'c_nationkey': (-inf, inf),\n",
      "  'l_commitdate': (-inf, inf),\n",
      "  'l_discount': (-inf, inf),\n",
      "  'l_extendedprice': (-inf, inf),\n",
      "  'l_linenumber': (-inf, inf),\n",
      "  'l_orderkey': (-inf, inf),\n",
      "  'l_partkey': (-inf, inf),\n",
      "  'l_quantity': (-inf, inf),\n",
      "  'l_receiptdate': (-inf, inf),\n",
      "  'l_shipdate': (-inf, inf),\n",
      "  'l_suppkey': (-inf, inf),\n",
      "  'l_tax': (-inf, inf),\n",
      "  'n_nationkey_cust': (-inf, inf),\n",
      "  'n_nationkey_supp': (-inf, inf),\n",
      "  'n_regionkey_cust': (-inf, inf),\n",
      "  'n_regionkey_supp': (-inf, inf),\n",
      "  'o_custkey': (-inf, inf),\n",
      "  'o_orderdate': [875678400, inf),\n",
      "  'o_orderkey': (-inf, inf),\n",
      "  'o_shippriority': (-inf, inf),\n",
      "  'o_totalprice': (-inf, inf),\n",
      "  'p_partkey': (-inf, inf),\n",
      "  'p_retailprice': (-inf, inf),\n",
      "  'p_size': (-inf, inf),\n",
      "  'ps_availqty': (-inf, inf),\n",
      "  'ps_partkey': (-inf, inf),\n",
      "  'ps_suppkey': (-inf, inf),\n",
      "  'ps_supplycost': (-inf, inf),\n",
      "  'r_regionkey_cust': (-inf, inf),\n",
      "  'r_regionkey_supp': (-inf, inf),\n",
      "  's_acctbal': (-inf, inf),\n",
      "  's_nationkey': (-inf, inf),\n",
      "  's_suppkey': (-inf, inf)}]\n",
      "0.33623285008054216\n"
     ]
    },
    {
     "name": "stderr",
     "output_type": "stream",
     "text": [
      "\u001b[2m\u001b[33m(raylet)\u001b[0m [2023-05-14 14:47:29,558 E 25473 25473] (raylet) node_manager.cc:3040: 6 Workers (tasks / actors) killed due to memory pressure (OOM), 0 Workers crashed due to other reasons at node (ID: 9790178f757169f649542af646f31498807e6faa2523246e90be57ae, IP: 192.168.75.74) over the last time period. To see more information about the Workers killed on this node, use `ray logs raylet.out -ip 192.168.75.74`\n",
      "\u001b[2m\u001b[33m(raylet)\u001b[0m \n",
      "\u001b[2m\u001b[33m(raylet)\u001b[0m Refer to the documentation on how to address the out of memory issue: https://docs.ray.io/en/latest/ray-core/scheduling/ray-oom-prevention.html. Consider provisioning more memory on this node or reducing task parallelism by requesting more CPUs per task. To adjust the kill threshold, set the environment variable `RAY_memory_usage_threshold` when starting Ray. To disable worker killing, set the environment variable `RAY_memory_monitor_refresh_ms` to zero.\n",
      "\u001b[2m\u001b[36m(RolloutWorker pid=2021)\u001b[0m 2023-05-14 14:47:57,902\tWARNING env.py:156 -- Your env doesn't have a .spec.max_episode_steps attribute. Your horizon will default to infinity, and your environment will not be reset.\n",
      "\u001b[2m\u001b[36m(RolloutWorker pid=2021)\u001b[0m 2023-05-14 14:47:57,902\tWARNING env.py:166 -- Your env reset() method appears to take 'seed' or 'return_info' arguments. Note that these are not yet supported in RLlib. Seeding will take place using 'env.seed()' and the info dict will not be returned from reset.\n"
     ]
    }
   ],
   "source": [
    "agent = config.build()\n",
    "agent.restore(result.get_best_result().checkpoint) # type: ignore\n",
    "\n",
    "env = QdTreeEnv(EnvContext(env_config, 0))\n",
    "done = False\n",
    "obs, _ = env.reset() \n",
    "step = 0\n",
    "episode_reward = 0\n",
    "while not done:\n",
    "    action = agent.compute_single_action(obs, explore=False)\n",
    "    obs, reward, done, _, info = env.step(action) # type: ignore\n",
    "    episode_reward += reward\n",
    "    # print(step, action, obs, reward, done, info)\n",
    "    step += 1\n",
    "\n",
    "pprint(env.qd_tree.blocks)\n",
    "print(episode_reward)\n"
   ]
  },
  {
   "cell_type": "code",
   "execution_count": null,
   "metadata": {},
   "outputs": [],
   "source": [
    "print(env.qd_tree)"
   ]
  },
  {
   "cell_type": "code",
   "execution_count": null,
   "metadata": {},
   "outputs": [],
   "source": []
  }
 ],
 "metadata": {
  "kernelspec": {
   "display_name": "venv",
   "language": "python",
   "name": "python3"
  },
  "language_info": {
   "codemirror_mode": {
    "name": "ipython",
    "version": 3
   },
   "file_extension": ".py",
   "mimetype": "text/x-python",
   "name": "python",
   "nbconvert_exporter": "python",
   "pygments_lexer": "ipython3",
   "version": "3.8.10"
  },
  "orig_nbformat": 4
 },
 "nbformat": 4,
 "nbformat_minor": 2
}
